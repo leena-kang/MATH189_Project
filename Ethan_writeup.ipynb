{
 "cells": [
  {
   "cell_type": "markdown",
   "metadata": {},
   "source": [
    "In an ideal world, every student has an equal chance to be successful in their educational pursuits. Academic success is strongly correlated with success in adulthood, so when students drop out of school, it reveals patterns of inequality in our educational system that must be addressed. Although dropout rates in the United States have declined in the past decade, we can leverage data to analyze the leading causes of dropouts in order to make better informed solutions to further reduce dropout rates. With this project, we hope to identify which factors are significantly correlated with academic success. These findings, if the factors are controllable, would be able to provide future students and/or parents with guidance on positive actions that can be taken to help level the playing field. In addition, the findings can help to reduce dropout rates, by influencing education policy makers to make adjustments to policy and informing parents how to identify if their children are at the risk of dropping out of school. With our findings, we aim to answer the question: \"What causes students to drop out of high school?\""
   ]
  },
  {
   "cell_type": "markdown",
   "metadata": {},
   "source": [
    "The analysis of drop outs is not a new topic. The 2013 research article \"Understanding why Students Drop Out of High School, According to Their Own Reports,\" by Jonathan Jacob Doll, Zohreh Eslami, and Lynne Walters, highlights how \"research on school dropout extends from early 20th-century pioneers until now, marking trends of causes and prevention.\" The article goes on to break down the three main factors that play a role in dropping out. \"Push factors include school-consequence on attendance or disciple. Pull factors include out-of-school enticements like jobs and family. Finally, falling out factors refer to disengagement in students not caused by school or outside pulling factors.\" The article also found that pull factors play the largest role in drop out rates, while push factors have been playing an increasingly larger role. It is theorized that the No Child Left Behind Act of 2001, which increased the standards of education, also led many students to drop out due to feelings of academic inadequacy. Another key insight was the gender disparity, with male students reporting the highest rates of push factors and female students reporting the highest rates of pull factors."
   ]
  },
  {
   "cell_type": "markdown",
   "metadata": {},
   "source": [
    "Another analysis of high school drop outs is Dr. Imed Bouchrika's 'High School Dropout Rate Is Decreasing but Race, Income & Disability Issues Persist in 2024.' It reports on how drop out rates are highly correlated with the issues of race, sex, and socioeconomic status. In particular, American Indian/Alaska Native students have higher drop out rates than any other racial group, disabled students are two times more likely to drop out than non-disabled students, and male students are more likely to drop out than female students. There is also the strong negative correlation between family income level and drop out rates, although the rate gap between the richest and poorest has been shrinking in recent years. Similar to the previous article, this article specifies school and family as two of the main reasons for dropping out, but it also cites employment as a key factor."
   ]
  },
  {
   "cell_type": "markdown",
   "metadata": {},
   "source": [
    "\n",
    "The data can be sourced from higher education institutions, which provide information about students’ academic paths and their academic performance throughout their enrollment. For our project, we decided to use a dataset adopted from the UCI Machine Learning Repository that includes data containing the academic path, demographics, and socio-economic status of each student along with their academic performance. Each row represents a student, and records their academic status at the end of semester as dropout, enrolled, or graduate. With this, we intend to investigate whether any discrepancies between ‘successful’ and ‘unsuccessful’ students are statistically significant. Our aim is to determine if we can anticipate which students are at risk of poor academic performance early on, based on academic, demographic, and socio-economic factors, and potentially suggest data-driven, optimal solutions to reduce dropout rates.  We also plan on performing various hypothesis tests to identify any potential biases in the dataset itself in order to address potential drawbacks/imbalances of our data. Because of the socioeconomic factors that follow education, we would expect the data to suggest that children from lower income families have a higher proportion of dropout students, however, hypothesis testing would be necessary to determine whether these differences are significant. Additionally, as the dataset was created in Portugal, we would expect to address potentially ethnic imbalances of the data that could affect our findings/conclusions. \n"
   ]
  },
  {
   "cell_type": "markdown",
   "metadata": {},
   "source": [
    "Doll, Jonathan Jacob, et al. \"Understanding why Students Drop Out of High School, According to Their Own Reports\" SAGE Open, vol. 3, no. 4, 1 Jan. 2013, p. 215824401350383, doi:10.1177/2158244013503834.\n",
    "\n",
    "Bouchrika, Imed. \"High School Dropout Rate Is Decreasing but Race, Income & Disability Issues Persist in 2024\" Research.com, research.com/education/high-school-dropout-rate. Accessed 07 Mar. 2024."
   ]
  },
  {
   "cell_type": "markdown",
   "metadata": {},
   "source": []
  }
 ],
 "metadata": {
  "language_info": {
   "name": "python"
  }
 },
 "nbformat": 4,
 "nbformat_minor": 2
}
