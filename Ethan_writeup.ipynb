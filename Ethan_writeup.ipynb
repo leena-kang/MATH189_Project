{
 "cells": [
  {
   "cell_type": "markdown",
   "metadata": {},
   "source": [
    "In an ideal world, every student has an equal chance to be successful in their educational pursuits. Although high school dropout rates in the United States have declined in the past decade, we can leverage data to analyze the leading causes of dropouts in order to make better informed solutions to further reduce dropout rates. With this project, we hope to identify which factors are significantly correlated with academic success. These findings, if the factors are controllable, would be able to provide future students and/or parents with guidance on positive actions that can be taken to help level the playing field. In addition, the findings can help to reduce school dropout rates, by influencing education policy makers to make adjustments to policy and informing parents how to identify if their children are at the risk of dropping out of school. With our findings, we aim to answer the question: \"What causes students to drop out of high school?\""
   ]
  },
  {
   "cell_type": "markdown",
   "metadata": {},
   "source": [
    "The analysis of high school drop outs is not a new topic. The 2013 research article \"Understanding why Students Drop Out of High School, According to Their Own Reports,\" by Jonathan Jacob Doll, Zohreh Eslami, and Lynne Walters, highlights how \"research on school dropout extends from early 20th-century pioneers until now, marking trends of causes and prevention.\" The article goes on to break down the three main factors that play a role in dropping out. \"Push factors include school-consequence on attendance or disciple. Pull factors include out-of-school enticements like jobs and family. Finally, falling out factors refer to disengagement in students not caused by school or outside pulling factors.\""
   ]
  },
  {
   "cell_type": "markdown",
   "metadata": {},
   "source": [
    "\n",
    "The data can be sourced from higher education institutions, which provide information about students’ academic paths and their academic performance throughout their enrollment. For our project, we decided to use a dataset adopted from the UCI Machine Learning Repository that includes data containing the academic path, demographics, and socio-economic status of each student along with their academic performance. Each row represents a student, and records their academic status at the end of semester as dropout, enrolled, or graduate. With this, we intend to investigate whether any discrepancies between ‘successful’ and ‘unsuccessful’ students are statistically significant. Our aim is to determine if we can anticipate which students are at risk of poor academic performance early on, based on academic, demographic, and socio-economic factors, and potentially suggest data-driven, optimal solutions to reduce dropout rates.  We also plan on performing various hypothesis tests to identify any potential biases in the dataset itself in order to address potential drawbacks/imbalances of our data. Because of the socioeconomic factors that follow education, we would expect the data to suggest that children from lower income families have a higher proportion of dropout students, however, hypothesis testing would be necessary to determine whether these differences are significant. Additionally, as the dataset was created in Portugal, we would expect to address potentially ethnic imbalances of the data that could affect our findings/conclusions. \n"
   ]
  }
 ],
 "metadata": {
  "language_info": {
   "name": "python"
  }
 },
 "nbformat": 4,
 "nbformat_minor": 2
}
