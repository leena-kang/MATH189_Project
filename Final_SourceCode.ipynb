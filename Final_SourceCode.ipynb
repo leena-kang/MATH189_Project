{
 "cells": [
  {
   "cell_type": "code",
   "execution_count": 2,
   "id": "56f53828-399a-4b78-ba45-22bbfe8efe95",
   "metadata": {},
   "outputs": [],
   "source": [
    "import numpy as np\n",
    "import pandas as pd;\n",
    "import scipy.stats as stats\n",
    "\n",
    "import seaborn as sns\n",
    "import matplotlib.pyplot as plt\n",
    "\n",
    "import statsmodels\n",
    "import statsmodels.api as sm\n",
    "import statsmodels.formula.api as smf"
   ]
  },
  {
   "cell_type": "markdown",
   "id": "e956ed5d-4f0d-4c35-ad9e-e04571c0962a",
   "metadata": {},
   "source": [
    "#### MATH 189 Winter 2024"
   ]
  },
  {
   "cell_type": "markdown",
   "id": "86156e89-8051-445d-a103-a5e04ee55223",
   "metadata": {},
   "source": [
    "## Dropout Analytics: Understanding Key Drivers for Dropout Students\n",
    "##### Leena Kang, Samuel Mai, Krystal Qiu, Ethan Lin, Mackenzie May"
   ]
  },
  {
   "cell_type": "markdown",
   "id": "cc0d0d1f-42bd-427d-b0fe-973b77fe0926",
   "metadata": {},
   "source": [
    "### Introduction (Ethan) "
   ]
  },
  {
   "cell_type": "code",
   "execution_count": null,
   "id": "2bbd8548-f389-4308-9d33-1ac5ff7ce7bc",
   "metadata": {},
   "outputs": [],
   "source": []
  },
  {
   "cell_type": "markdown",
   "id": "61d0daa5-03a2-4dcd-a80e-c72ac99052a9",
   "metadata": {},
   "source": [
    "### The Dataset (Ethan)"
   ]
  },
  {
   "cell_type": "code",
   "execution_count": null,
   "id": "02b8576c-5788-4bbb-82a9-51c1ac2aa3e8",
   "metadata": {},
   "outputs": [],
   "source": []
  },
  {
   "cell_type": "markdown",
   "id": "031b53e1-743b-44fb-9ae6-13ed6a2a7af3",
   "metadata": {},
   "source": [
    "### Data Cleaning + Exploratory Data Analysis (Leena)"
   ]
  },
  {
   "cell_type": "code",
   "execution_count": null,
   "id": "0fd6e273-a794-442a-aacb-f113e2b08e10",
   "metadata": {},
   "outputs": [],
   "source": []
  },
  {
   "cell_type": "markdown",
   "id": "cb6cf9ee-adc9-4c58-b4eb-fcd5327b8c13",
   "metadata": {},
   "source": [
    "### Hypothesis Testing (Leena)"
   ]
  },
  {
   "cell_type": "code",
   "execution_count": null,
   "id": "a32bb7b6-a9ea-4c51-baae-529b71a463a7",
   "metadata": {},
   "outputs": [],
   "source": []
  },
  {
   "cell_type": "markdown",
   "id": "ca8411bd-7c7a-4a7e-bccd-f4afaccd1e2f",
   "metadata": {},
   "source": [
    "### More Parametric Hypothesis Testing (Leena)"
   ]
  },
  {
   "cell_type": "code",
   "execution_count": null,
   "id": "2434df38-5a11-4e01-8d13-7e6330df4c2c",
   "metadata": {},
   "outputs": [],
   "source": []
  },
  {
   "cell_type": "markdown",
   "id": "3d16ea10-0f96-4338-9f1e-77e03daa372a",
   "metadata": {},
   "source": [
    "### Hypothesis Testing - Cross Checking (Mackenzie)"
   ]
  },
  {
   "cell_type": "code",
   "execution_count": null,
   "id": "256bac10-6026-484f-ae96-8a02eb6ffaba",
   "metadata": {},
   "outputs": [],
   "source": []
  },
  {
   "cell_type": "markdown",
   "id": "61133c92-7e13-40f2-b517-f0f6afaaaf37",
   "metadata": {},
   "source": [
    "### Logistic Regression (Samuel)"
   ]
  },
  {
   "cell_type": "code",
   "execution_count": 3,
   "id": "4cc9510c-c660-4d8f-a3a5-641b8bd15171",
   "metadata": {},
   "outputs": [],
   "source": [
    "# importing libraries\n",
    "import plotly\n",
    "import plotly.express as px\n",
    "import plotly.graph_objects as go\n",
    "\n",
    "import statsmodels\n",
    "import statsmodels.api as sm\n",
    "import statsmodels.formula.api as smf\n",
    "from sklearn.preprocessing import OrdinalEncoder\n",
    "from sklearn.preprocessing import OneHotEncoder\n",
    "from sklearn.model_selection import train_test_split\n",
    "from sklearn.linear_model import LogisticRegression\n",
    "from sklearn import metrics\n",
    "from sklearn.model_selection import cross_val_score"
   ]
  },
  {
   "cell_type": "code",
   "execution_count": null,
   "id": "8a386f96-3e81-4f0f-9bdb-885cf8259b8a",
   "metadata": {},
   "outputs": [],
   "source": []
  },
  {
   "cell_type": "markdown",
   "id": "1edf301b-129c-4aaa-8138-7613c857c1b2",
   "metadata": {},
   "source": [
    "### Random Forest Classifier (Krystal)"
   ]
  },
  {
   "cell_type": "code",
   "execution_count": 2,
   "id": "d4e1ca9b-eae4-4434-9ce6-2d0fad10b7c8",
   "metadata": {},
   "outputs": [],
   "source": [
    "# importing libraries \n",
    "from sklearn.model_selection import train_test_split\n",
    "from sklearn.preprocessing import StandardScaler\n",
    "from sklearn.naive_bayes import GaussianNB\n",
    "from sklearn.metrics import accuracy_score, classification_report\n",
    "from sklearn.ensemble import RandomForestClassifier\n",
    "from sklearn.metrics import confusion_matrix"
   ]
  },
  {
   "cell_type": "code",
   "execution_count": null,
   "id": "36a9acb4-e882-421c-beb2-b259dae43540",
   "metadata": {},
   "outputs": [],
   "source": []
  }
 ],
 "metadata": {
  "kernelspec": {
   "display_name": "Python 3 (ipykernel)",
   "language": "python",
   "name": "python3"
  },
  "language_info": {
   "codemirror_mode": {
    "name": "ipython",
    "version": 3
   },
   "file_extension": ".py",
   "mimetype": "text/x-python",
   "name": "python",
   "nbconvert_exporter": "python",
   "pygments_lexer": "ipython3",
   "version": "3.10.11"
  }
 },
 "nbformat": 4,
 "nbformat_minor": 5
}
