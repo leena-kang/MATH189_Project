{
 "cells": [
  {
   "cell_type": "code",
   "execution_count": 25,
   "metadata": {},
   "outputs": [],
   "source": [
    "import pandas as pd\n",
    "import math as math\n",
    "import numpy as np\n",
    "import seaborn as sns\n",
    "import matplotlib.pyplot as plt\n",
    "import plotly\n",
    "import plotly.express as px\n",
    "import plotly.graph_objects as go\n",
    "import itertools\n",
    "\n",
    "import statsmodels\n",
    "import statsmodels.api as sm\n",
    "import statsmodels.formula.api as smf\n",
    "from sklearn.preprocessing import OrdinalEncoder\n",
    "from sklearn.preprocessing import OneHotEncoder\n",
    "from sklearn.model_selection import train_test_split\n",
    "from sklearn.linear_model import LogisticRegression\n",
    "from sklearn import metrics\n",
    "from sklearn.model_selection import cross_val_score\n",
    "from sklearn.metrics import roc_curve, auc\n"
   ]
  },
  {
   "attachments": {},
   "cell_type": "markdown",
   "metadata": {},
   "source": [
    "## Methodology"
   ]
  },
  {
   "attachments": {},
   "cell_type": "markdown",
   "metadata": {},
   "source": [
    "We're going to have the response variable as the \"Target\" column and have Graduate/Enrolled as a success or 1 and have Dropout as a fail or 0.\n",
    "For our model, we are going to start with most features except those with some unknown values."
   ]
  },
  {
   "attachments": {},
   "cell_type": "markdown",
   "metadata": {},
   "source": [
    "### Logistic Regression for Dropout/Graduate Students"
   ]
  },
  {
   "cell_type": "code",
   "execution_count": 2,
   "metadata": {},
   "outputs": [],
   "source": [
    "#df = pd.read_csv(\"C:/Users/samue_gelsjfg/Downloads/Leena_df1Clean.csv\")\n",
    "df = pd.read_csv(\"/Users/samuelmai/Downloads/Leena_df1Clean.csv\")"
   ]
  },
  {
   "cell_type": "code",
   "execution_count": 3,
   "metadata": {},
   "outputs": [
    {
     "data": {
      "text/html": [
       "<div>\n",
       "<style scoped>\n",
       "    .dataframe tbody tr th:only-of-type {\n",
       "        vertical-align: middle;\n",
       "    }\n",
       "\n",
       "    .dataframe tbody tr th {\n",
       "        vertical-align: top;\n",
       "    }\n",
       "\n",
       "    .dataframe thead th {\n",
       "        text-align: right;\n",
       "    }\n",
       "</style>\n",
       "<table border=\"1\" class=\"dataframe\">\n",
       "  <thead>\n",
       "    <tr style=\"text-align: right;\">\n",
       "      <th></th>\n",
       "      <th>Marital Status</th>\n",
       "      <th>Course</th>\n",
       "      <th>Previous qualification</th>\n",
       "      <th>Previous qualification (grade)</th>\n",
       "      <th>Mother's qualification</th>\n",
       "      <th>Father's qualification</th>\n",
       "      <th>Mother's occupation</th>\n",
       "      <th>Father's occupation</th>\n",
       "      <th>Admission grade</th>\n",
       "      <th>Gender</th>\n",
       "      <th>...</th>\n",
       "      <th>Inflation rate</th>\n",
       "      <th>GDP</th>\n",
       "      <th>Target</th>\n",
       "      <th>isDisplaced</th>\n",
       "      <th>hasSpecialNeeds</th>\n",
       "      <th>tuitionToDate</th>\n",
       "      <th>hasScholarship</th>\n",
       "      <th>isDebtor</th>\n",
       "      <th>AttendanceTime</th>\n",
       "      <th>Nationality</th>\n",
       "    </tr>\n",
       "  </thead>\n",
       "  <tbody>\n",
       "    <tr>\n",
       "      <th>0</th>\n",
       "      <td>Single</td>\n",
       "      <td>Animation and Multimedia Design</td>\n",
       "      <td>Secondary</td>\n",
       "      <td>122.0</td>\n",
       "      <td>Basic</td>\n",
       "      <td>Basic</td>\n",
       "      <td>5</td>\n",
       "      <td>9</td>\n",
       "      <td>127.3</td>\n",
       "      <td>Male</td>\n",
       "      <td>...</td>\n",
       "      <td>1.4</td>\n",
       "      <td>1.74</td>\n",
       "      <td>Dropout</td>\n",
       "      <td>True</td>\n",
       "      <td>False</td>\n",
       "      <td>True</td>\n",
       "      <td>False</td>\n",
       "      <td>False</td>\n",
       "      <td>Day</td>\n",
       "      <td>Portuguese</td>\n",
       "    </tr>\n",
       "    <tr>\n",
       "      <th>1</th>\n",
       "      <td>Single</td>\n",
       "      <td>Tourism</td>\n",
       "      <td>Secondary</td>\n",
       "      <td>160.0</td>\n",
       "      <td>Secondary</td>\n",
       "      <td>Higher</td>\n",
       "      <td>3</td>\n",
       "      <td>3</td>\n",
       "      <td>142.5</td>\n",
       "      <td>Male</td>\n",
       "      <td>...</td>\n",
       "      <td>-0.3</td>\n",
       "      <td>0.79</td>\n",
       "      <td>Graduate/Enrolled</td>\n",
       "      <td>True</td>\n",
       "      <td>False</td>\n",
       "      <td>False</td>\n",
       "      <td>False</td>\n",
       "      <td>False</td>\n",
       "      <td>Day</td>\n",
       "      <td>Portuguese</td>\n",
       "    </tr>\n",
       "    <tr>\n",
       "      <th>2</th>\n",
       "      <td>Single</td>\n",
       "      <td>Communication Design</td>\n",
       "      <td>Secondary</td>\n",
       "      <td>122.0</td>\n",
       "      <td>Basic</td>\n",
       "      <td>Basic</td>\n",
       "      <td>9</td>\n",
       "      <td>9</td>\n",
       "      <td>124.8</td>\n",
       "      <td>Male</td>\n",
       "      <td>...</td>\n",
       "      <td>1.4</td>\n",
       "      <td>1.74</td>\n",
       "      <td>Dropout</td>\n",
       "      <td>True</td>\n",
       "      <td>False</td>\n",
       "      <td>False</td>\n",
       "      <td>False</td>\n",
       "      <td>False</td>\n",
       "      <td>Day</td>\n",
       "      <td>Portuguese</td>\n",
       "    </tr>\n",
       "    <tr>\n",
       "      <th>3</th>\n",
       "      <td>Single</td>\n",
       "      <td>Journalism and Communication</td>\n",
       "      <td>Secondary</td>\n",
       "      <td>122.0</td>\n",
       "      <td>Basic</td>\n",
       "      <td>Basic</td>\n",
       "      <td>5</td>\n",
       "      <td>3</td>\n",
       "      <td>119.6</td>\n",
       "      <td>Female</td>\n",
       "      <td>...</td>\n",
       "      <td>-0.8</td>\n",
       "      <td>-3.12</td>\n",
       "      <td>Graduate/Enrolled</td>\n",
       "      <td>True</td>\n",
       "      <td>False</td>\n",
       "      <td>True</td>\n",
       "      <td>False</td>\n",
       "      <td>False</td>\n",
       "      <td>Day</td>\n",
       "      <td>Portuguese</td>\n",
       "    </tr>\n",
       "    <tr>\n",
       "      <th>4</th>\n",
       "      <td>Married</td>\n",
       "      <td>Social Service (evening attendance)</td>\n",
       "      <td>Secondary</td>\n",
       "      <td>100.0</td>\n",
       "      <td>Basic</td>\n",
       "      <td>Basic</td>\n",
       "      <td>9</td>\n",
       "      <td>9</td>\n",
       "      <td>141.5</td>\n",
       "      <td>Female</td>\n",
       "      <td>...</td>\n",
       "      <td>-0.3</td>\n",
       "      <td>0.79</td>\n",
       "      <td>Graduate/Enrolled</td>\n",
       "      <td>False</td>\n",
       "      <td>False</td>\n",
       "      <td>True</td>\n",
       "      <td>False</td>\n",
       "      <td>False</td>\n",
       "      <td>Evening</td>\n",
       "      <td>Portuguese</td>\n",
       "    </tr>\n",
       "  </tbody>\n",
       "</table>\n",
       "<p>5 rows × 35 columns</p>\n",
       "</div>"
      ],
      "text/plain": [
       "  Marital Status                               Course Previous qualification  \\\n",
       "0         Single      Animation and Multimedia Design              Secondary   \n",
       "1         Single                              Tourism              Secondary   \n",
       "2         Single                 Communication Design              Secondary   \n",
       "3         Single         Journalism and Communication              Secondary   \n",
       "4        Married  Social Service (evening attendance)              Secondary   \n",
       "\n",
       "   Previous qualification (grade) Mother's qualification  \\\n",
       "0                           122.0                  Basic   \n",
       "1                           160.0              Secondary   \n",
       "2                           122.0                  Basic   \n",
       "3                           122.0                  Basic   \n",
       "4                           100.0                  Basic   \n",
       "\n",
       "  Father's qualification  Mother's occupation  Father's occupation  \\\n",
       "0                  Basic                    5                    9   \n",
       "1                 Higher                    3                    3   \n",
       "2                  Basic                    9                    9   \n",
       "3                  Basic                    5                    3   \n",
       "4                  Basic                    9                    9   \n",
       "\n",
       "   Admission grade  Gender  ...  Inflation rate   GDP             Target  \\\n",
       "0            127.3    Male  ...             1.4  1.74            Dropout   \n",
       "1            142.5    Male  ...            -0.3  0.79  Graduate/Enrolled   \n",
       "2            124.8    Male  ...             1.4  1.74            Dropout   \n",
       "3            119.6  Female  ...            -0.8 -3.12  Graduate/Enrolled   \n",
       "4            141.5  Female  ...            -0.3  0.79  Graduate/Enrolled   \n",
       "\n",
       "   isDisplaced  hasSpecialNeeds  tuitionToDate  hasScholarship  isDebtor  \\\n",
       "0         True            False           True           False     False   \n",
       "1         True            False          False           False     False   \n",
       "2         True            False          False           False     False   \n",
       "3         True            False           True           False     False   \n",
       "4        False            False           True           False     False   \n",
       "\n",
       "   AttendanceTime  Nationality  \n",
       "0             Day   Portuguese  \n",
       "1             Day   Portuguese  \n",
       "2             Day   Portuguese  \n",
       "3             Day   Portuguese  \n",
       "4         Evening   Portuguese  \n",
       "\n",
       "[5 rows x 35 columns]"
      ]
     },
     "execution_count": 3,
     "metadata": {},
     "output_type": "execute_result"
    }
   ],
   "source": [
    "df.head()"
   ]
  },
  {
   "cell_type": "code",
   "execution_count": 4,
   "metadata": {},
   "outputs": [
    {
     "data": {
      "text/plain": [
       "Marital Status                                     object\n",
       "Course                                             object\n",
       "Previous qualification                             object\n",
       "Previous qualification (grade)                    float64\n",
       "Mother's qualification                             object\n",
       "Father's qualification                             object\n",
       "Mother's occupation                                 int64\n",
       "Father's occupation                                 int64\n",
       "Admission grade                                   float64\n",
       "Gender                                             object\n",
       "Age at enrollment                                   int64\n",
       "International                                       int64\n",
       "Curricular units 1st sem (credited)                 int64\n",
       "Curricular units 1st sem (enrolled)                 int64\n",
       "Curricular units 1st sem (evaluations)              int64\n",
       "Curricular units 1st sem (approved)                 int64\n",
       "Curricular units 1st sem (grade)                  float64\n",
       "Curricular units 1st sem (without evaluations)      int64\n",
       "Curricular units 2nd sem (credited)                 int64\n",
       "Curricular units 2nd sem (enrolled)                 int64\n",
       "Curricular units 2nd sem (evaluations)              int64\n",
       "Curricular units 2nd sem (approved)                 int64\n",
       "Curricular units 2nd sem (grade)                  float64\n",
       "Curricular units 2nd sem (without evaluations)      int64\n",
       "Unemployment rate                                 float64\n",
       "Inflation rate                                    float64\n",
       "GDP                                               float64\n",
       "Target                                             object\n",
       "isDisplaced                                          bool\n",
       "hasSpecialNeeds                                      bool\n",
       "tuitionToDate                                        bool\n",
       "hasScholarship                                       bool\n",
       "isDebtor                                             bool\n",
       "AttendanceTime                                     object\n",
       "Nationality                                        object\n",
       "dtype: object"
      ]
     },
     "execution_count": 4,
     "metadata": {},
     "output_type": "execute_result"
    }
   ],
   "source": [
    "df.dtypes"
   ]
  },
  {
   "cell_type": "code",
   "execution_count": 5,
   "metadata": {},
   "outputs": [
    {
     "name": "stdout",
     "output_type": "stream",
     "text": [
      "['Dropout' 'Graduate/Enrolled']\n",
      "['0' '1']\n"
     ]
    }
   ],
   "source": [
    "print(df['Target'].unique())\n",
    "\n",
    "# Change 'Graduate/Enrolled' = 1 and 'Dropout' = 0\n",
    "\n",
    "df['Target'] = df['Target'].replace(['Dropout','Graduate/Enrolled'], ['0','1'])\n",
    "print(df['Target'].unique())\n"
   ]
  },
  {
   "cell_type": "code",
   "execution_count": 6,
   "metadata": {},
   "outputs": [],
   "source": [
    "df['isDisplaced'] = df['isDisplaced'].astype(int)\n",
    "df['hasSpecialNeeds'] = df['hasSpecialNeeds'].astype(int)\n",
    "df['tuitionToDate'] = df['tuitionToDate'].astype(int)\n",
    "df['hasScholarship'] = df['hasScholarship'].astype(int)\n",
    "df['isDebtor'] = df['isDebtor'].astype(int)"
   ]
  },
  {
   "cell_type": "code",
   "execution_count": 7,
   "metadata": {},
   "outputs": [
    {
     "name": "stdout",
     "output_type": "stream",
     "text": [
      "['Secondary' 'Below secondary' 'Higher']\n",
      "[1. 0. 2.]\n"
     ]
    }
   ],
   "source": [
    "print(df['Previous qualification'].unique())\n",
    "# This is an ordinal variable, so we can use ordinal encoding and have \"Below Secondary = 0, Secondary = 1, and Higher = 2\"\n",
    "\n",
    "encoder = OrdinalEncoder(categories=[[\"Below secondary\", \"Secondary\", \"Higher\"]])\n",
    "\n",
    "# Fit and transform the data\n",
    "df['Previous qualification'] = encoder.fit_transform(df[['Previous qualification']])\n",
    "print(df['Previous qualification'].unique())"
   ]
  },
  {
   "cell_type": "code",
   "execution_count": 8,
   "metadata": {},
   "outputs": [
    {
     "name": "stdout",
     "output_type": "stream",
     "text": [
      "['Single' 'Married' 'Divorced' 'Widower' 'Facto Union' 'Legally Separated']\n"
     ]
    }
   ],
   "source": [
    "print(df['Marital Status'].unique())\n",
    "\n",
    "# We will use One Hot Encoding here to turn these values into numerical values\n",
    "\n",
    "one_hot_encoded = pd.get_dummies(df['Marital Status'])\n",
    "df = pd.concat([df, one_hot_encoded], axis=1)\n",
    "\n",
    "# encoder = OneHotEncoder()\n",
    "\n",
    "# # Fit and transform the data\n",
    "# encoded_data = encoder.fit_transform(df[['Marital Status']])\n",
    "\n",
    "# # Convert the encoded data to a DataFrame\n",
    "# encoded_df = pd.DataFrame(encoded_data.toarray(), columns=encoder.get_feature_names_out(['Marital Status']))\n",
    "\n",
    "# # Concatenate the encoded DataFrame with the original DataFrame\n",
    "# df = pd.concat([df, encoded_df], axis=1)"
   ]
  },
  {
   "cell_type": "code",
   "execution_count": 9,
   "metadata": {},
   "outputs": [
    {
     "name": "stdout",
     "output_type": "stream",
     "text": [
      "['Basic' 'Secondary' 'Higher' 'Unknown']\n"
     ]
    }
   ],
   "source": [
    "print(df[\"Mother's qualification\"].unique())\n",
    "\n",
    "# Since we don't know for some values, we are going to drop the column as a feature."
   ]
  },
  {
   "cell_type": "code",
   "execution_count": 10,
   "metadata": {},
   "outputs": [
    {
     "name": "stdout",
     "output_type": "stream",
     "text": [
      "['Basic' 'Higher' 'Secondary' 'Unknown']\n"
     ]
    }
   ],
   "source": [
    "print(df[\"Father's qualification\"].unique())\n",
    "\n",
    "# Since we don't know for some values, we are going to drop the column as a feature."
   ]
  },
  {
   "cell_type": "code",
   "execution_count": 11,
   "metadata": {},
   "outputs": [
    {
     "name": "stdout",
     "output_type": "stream",
     "text": [
      "['Male' 'Female']\n",
      "[1 0]\n"
     ]
    }
   ],
   "source": [
    "print(df['Gender'].unique())\n",
    "\n",
    "# We will be using binary encoding to have male = 1 and female = 0\n",
    "\n",
    "df['Gender'] = df['Gender'].replace(['Female','Male'], [0,1])\n",
    "print(df['Gender'].unique())"
   ]
  },
  {
   "cell_type": "code",
   "execution_count": 12,
   "metadata": {},
   "outputs": [
    {
     "name": "stdout",
     "output_type": "stream",
     "text": [
      "['Day' 'Evening']\n",
      "[0 1]\n"
     ]
    }
   ],
   "source": [
    "print(df['AttendanceTime'].unique())\n",
    "\n",
    "df['AttendanceTime'] = df['AttendanceTime'].replace(['Day','Evening'], [0,1])\n",
    "\n",
    "print(df['AttendanceTime'].unique())"
   ]
  },
  {
   "cell_type": "code",
   "execution_count": 13,
   "metadata": {},
   "outputs": [
    {
     "name": "stdout",
     "output_type": "stream",
     "text": [
      "['Portuguese' 'Romanian' 'Spanish' 'Brazilian' 'Santomean' 'Ukrainian'\n",
      " 'Dutch' 'Mozambican' 'Angolan' 'Mexican' 'Italian' 'Cape Verdean'\n",
      " 'Turkish' 'Moldova (Republic of)' 'Guinean' 'Colombian' 'German' 'Cuban'\n",
      " 'Russian' 'English' 'Lithuanian']\n"
     ]
    }
   ],
   "source": [
    "print(df['Nationality'].unique())\n",
    "\n",
    "# One hot encode this\n",
    "\n",
    "df_one_hot = pd.get_dummies(df['Nationality'])\n",
    "df = pd.concat([df, df_one_hot], axis=1)\n"
   ]
  },
  {
   "cell_type": "code",
   "execution_count": 14,
   "metadata": {},
   "outputs": [
    {
     "data": {
      "text/plain": [
       "Index(['Marital Status', 'Course', 'Previous qualification',\n",
       "       'Previous qualification (grade)', 'Mother's qualification',\n",
       "       'Father's qualification', 'Mother's occupation', 'Father's occupation',\n",
       "       'Admission grade', 'Gender', 'Age at enrollment', 'International',\n",
       "       'Curricular units 1st sem (credited)',\n",
       "       'Curricular units 1st sem (enrolled)',\n",
       "       'Curricular units 1st sem (evaluations)',\n",
       "       'Curricular units 1st sem (approved)',\n",
       "       'Curricular units 1st sem (grade)',\n",
       "       'Curricular units 1st sem (without evaluations)',\n",
       "       'Curricular units 2nd sem (credited)',\n",
       "       'Curricular units 2nd sem (enrolled)',\n",
       "       'Curricular units 2nd sem (evaluations)',\n",
       "       'Curricular units 2nd sem (approved)',\n",
       "       'Curricular units 2nd sem (grade)',\n",
       "       'Curricular units 2nd sem (without evaluations)', 'Unemployment rate',\n",
       "       'Inflation rate', 'GDP', 'Target', 'isDisplaced', 'hasSpecialNeeds',\n",
       "       'tuitionToDate', 'hasScholarship', 'isDebtor', 'AttendanceTime',\n",
       "       'Nationality', 'Divorced', 'Facto Union', 'Legally Separated',\n",
       "       'Married', 'Single', 'Widower', 'Angolan', 'Brazilian', 'Cape Verdean',\n",
       "       'Colombian', 'Cuban', 'Dutch', 'English', 'German', 'Guinean',\n",
       "       'Italian', 'Lithuanian', 'Mexican', 'Moldova (Republic of)',\n",
       "       'Mozambican', 'Portuguese', 'Romanian', 'Russian', 'Santomean',\n",
       "       'Spanish', 'Turkish', 'Ukrainian'],\n",
       "      dtype='object')"
      ]
     },
     "execution_count": 14,
     "metadata": {},
     "output_type": "execute_result"
    }
   ],
   "source": [
    "df.columns"
   ]
  },
  {
   "attachments": {},
   "cell_type": "markdown",
   "metadata": {},
   "source": [
    "Now we can run our logistic regression after converting all our categorical variables into numerical values."
   ]
  },
  {
   "cell_type": "code",
   "execution_count": 15,
   "metadata": {},
   "outputs": [],
   "source": [
    "X = df.drop(['Target', 'Course', 'Nationality', 'Marital Status', \"Mother's qualification\", \"Father's qualification\"], axis=1)\n",
    "y = df['Target']"
   ]
  },
  {
   "cell_type": "code",
   "execution_count": 16,
   "metadata": {},
   "outputs": [
    {
     "data": {
      "text/plain": [
       "Previous qualification                            float64\n",
       "Previous qualification (grade)                    float64\n",
       "Mother's occupation                                 int64\n",
       "Father's occupation                                 int64\n",
       "Admission grade                                   float64\n",
       "Gender                                              int64\n",
       "Age at enrollment                                   int64\n",
       "International                                       int64\n",
       "Curricular units 1st sem (credited)                 int64\n",
       "Curricular units 1st sem (enrolled)                 int64\n",
       "Curricular units 1st sem (evaluations)              int64\n",
       "Curricular units 1st sem (approved)                 int64\n",
       "Curricular units 1st sem (grade)                  float64\n",
       "Curricular units 1st sem (without evaluations)      int64\n",
       "Curricular units 2nd sem (credited)                 int64\n",
       "Curricular units 2nd sem (enrolled)                 int64\n",
       "Curricular units 2nd sem (evaluations)              int64\n",
       "Curricular units 2nd sem (approved)                 int64\n",
       "Curricular units 2nd sem (grade)                  float64\n",
       "Curricular units 2nd sem (without evaluations)      int64\n",
       "Unemployment rate                                 float64\n",
       "Inflation rate                                    float64\n",
       "GDP                                               float64\n",
       "isDisplaced                                         int64\n",
       "hasSpecialNeeds                                     int64\n",
       "tuitionToDate                                       int64\n",
       "hasScholarship                                      int64\n",
       "isDebtor                                            int64\n",
       "AttendanceTime                                      int64\n",
       "Divorced                                            uint8\n",
       "Facto Union                                         uint8\n",
       "Legally Separated                                   uint8\n",
       "Married                                             uint8\n",
       "Single                                              uint8\n",
       "Widower                                             uint8\n",
       "Angolan                                             uint8\n",
       "Brazilian                                           uint8\n",
       "Cape Verdean                                        uint8\n",
       "Colombian                                           uint8\n",
       "Cuban                                               uint8\n",
       "Dutch                                               uint8\n",
       "English                                             uint8\n",
       "German                                              uint8\n",
       "Guinean                                             uint8\n",
       "Italian                                             uint8\n",
       "Lithuanian                                          uint8\n",
       "Mexican                                             uint8\n",
       "Moldova (Republic of)                               uint8\n",
       "Mozambican                                          uint8\n",
       "Portuguese                                          uint8\n",
       "Romanian                                            uint8\n",
       "Russian                                             uint8\n",
       "Santomean                                           uint8\n",
       "Spanish                                             uint8\n",
       "Turkish                                             uint8\n",
       "Ukrainian                                           uint8\n",
       "dtype: object"
      ]
     },
     "execution_count": 16,
     "metadata": {},
     "output_type": "execute_result"
    }
   ],
   "source": [
    "X.dtypes"
   ]
  },
  {
   "cell_type": "code",
   "execution_count": 17,
   "metadata": {},
   "outputs": [
    {
     "name": "stdout",
     "output_type": "stream",
     "text": [
      "Accuracy: 0.8655367231638418\n",
      "Train Accuracy: 0.8818875388527833\n",
      "Precision: 0.8640776699029126\n",
      "Recall: 0.9384885764499121\n",
      "Confusion Matrix:\n",
      "[[232  84]\n",
      " [ 35 534]]\n"
     ]
    }
   ],
   "source": [
    "# Split the data into training and testing sets\n",
    "X_train, X_test, y_train, y_test = train_test_split(X, y, test_size=0.2, random_state=42)\n",
    "\n",
    "# Create a logistic regression model\n",
    "model = LogisticRegression(max_iter = 10000)\n",
    "\n",
    "# Fit the model to the training data\n",
    "model.fit(X_train, y_train)\n",
    "\n",
    "# Make predictions on the test data\n",
    "y_pred = model.predict(X_test)\n",
    "train_preds = model.predict(X_train)\n",
    "\n",
    "\n",
    "# Calculate accuracy\n",
    "train_accuracy = metrics.accuracy_score(y_train, train_preds)\n",
    "\n",
    "# Evaluate the model\n",
    "accuracy = metrics.accuracy_score(y_test, y_pred)\n",
    "precision = metrics.precision_score(y_test, y_pred, pos_label='1')\n",
    "recall = metrics.recall_score(y_test, y_pred, pos_label='1')\n",
    "confusion_matrix = metrics.confusion_matrix(y_test, y_pred)\n",
    "\n",
    "print(f'Accuracy: {accuracy}')\n",
    "print(f'Train Accuracy: {train_accuracy}')\n",
    "print(f'Precision: {precision}')\n",
    "print(f'Recall: {recall}')\n",
    "print(f'Confusion Matrix:\\n{confusion_matrix}')"
   ]
  },
  {
   "cell_type": "code",
   "execution_count": 18,
   "metadata": {},
   "outputs": [
    {
     "name": "stdout",
     "output_type": "stream",
     "text": [
      "Cross-validation scores: [0.88361582 0.88813559 0.86553672 0.88248588 0.85859729]\n",
      "Mean CV score: 0.8756742592734617\n"
     ]
    }
   ],
   "source": [
    "cv_scores = cross_val_score(model, X, y, cv=5)  # 5-fold cross-validation\n",
    "print(\"Cross-validation scores:\", cv_scores)\n",
    "print(\"Mean CV score:\", cv_scores.mean())"
   ]
  },
  {
   "cell_type": "code",
   "execution_count": 29,
   "metadata": {},
   "outputs": [
    {
     "name": "stdout",
     "output_type": "stream",
     "text": [
      "Confusion matrix, without normalization\n",
      "[[232  84]\n",
      " [ 35 534]]\n"
     ]
    },
    {
     "data": {
      "image/png": "[encoded data removed]",
      "text/plain": [
       "<Figure size 640x480 with 2 Axes>"
      ]
     },
     "metadata": {},
     "output_type": "display_data"
    },
    {
     "data": {
      "image/png": "[encoded data removed]",
      "text/plain": [
       "<Figure size 640x480 with 1 Axes>"
      ]
     },
     "metadata": {},
     "output_type": "display_data"
    }
   ],
   "source": [
    "# Function to plot confusion matrix\n",
    "def plot_confusion_matrix(cm, classes,\n",
    "                          normalize=False,\n",
    "                          title='Confusion matrix',\n",
    "                          cmap=plt.cm.Blues):\n",
    "    \"\"\"\n",
    "    This function prints and plots the confusion matrix.\n",
    "    Normalization can be applied by setting `normalize=True`.\n",
    "    \"\"\"\n",
    "    plt.imshow(cm, interpolation='nearest', cmap=cmap)\n",
    "    plt.title(title)\n",
    "    plt.colorbar()\n",
    "    tick_marks = np.arange(len(classes))\n",
    "    plt.xticks(tick_marks, classes, rotation=45)\n",
    "    plt.yticks(tick_marks, classes)\n",
    "\n",
    "    if normalize:\n",
    "        cm = cm.astype('float') / cm.sum(axis=1)[:, np.newaxis]\n",
    "        print(\"Normalized confusion matrix\")\n",
    "    else:\n",
    "        print('Confusion matrix, without normalization')\n",
    "\n",
    "    print(cm)\n",
    "\n",
    "    thresh = cm.max() / 2.\n",
    "    for i, j in itertools.product(range(cm.shape[0]), range(cm.shape[1])):\n",
    "        plt.text(j, i, cm[i, j],\n",
    "                 horizontalalignment=\"center\",\n",
    "                 color=\"white\" if cm[i, j] > thresh else \"black\")\n",
    "\n",
    "    plt.tight_layout()\n",
    "    plt.ylabel('True label')\n",
    "    plt.xlabel('Predicted label')\n",
    "\n",
    "# Plotting the confusion matrix\n",
    "plot_confusion_matrix(confusion_matrix, classes=['Dropout', 'Graduate/Enrolled'])\n",
    "\n",
    "# Function to plot ROC curve\n",
    "def plot_roc_curve(y_test, y_pred):\n",
    "    fpr, tpr, thresholds = roc_curve(y_test, y_pred, pos_label=1)\n",
    "    roc_auc = auc(fpr, tpr)\n",
    "\n",
    "    plt.figure()\n",
    "    plt.plot(fpr, tpr, color='darkorange', lw=2, label='ROC curve (area = %0.2f)' % roc_auc)\n",
    "    plt.plot([0, 1], [0, 1], color='navy', lw=2, linestyle='--')\n",
    "    plt.xlim([0.0, 1.0])\n",
    "    plt.ylim([0.0, 1.05])\n",
    "    plt.xlabel('False Positive Rate')\n",
    "    plt.ylabel('True Positive Rate')\n",
    "    plt.title('Receiver Operating Characteristic')\n",
    "    plt.legend(loc=\"lower right\")\n",
    "    plt.show()\n",
    "\n",
    "# Convert y_test and y_pred to numeric for ROC curve plotting\n",
    "y_test_numeric = y_test.astype(int)\n",
    "y_pred_numeric = [int(pred) for pred in y_pred]\n",
    "\n",
    "# Plotting ROC curve\n",
    "plot_roc_curve(y_test_numeric, y_pred_numeric)"
   ]
  },
  {
   "attachments": {},
   "cell_type": "markdown",
   "metadata": {},
   "source": [
    "### Results"
   ]
  },
  {
   "attachments": {},
   "cell_type": "markdown",
   "metadata": {},
   "source": [
    "From our accuracy score, it seems that the features used are good at predicting whether someone will be Enrolled or Graduated. However, I fear that this is a case of overfitting so we might have to run it again with fewer features. The one hot encoded variables of Marital Status and Nationality may have been a reason for this with the large number of categorical values, we created very sparce matrices which isn't ideal for logistic regression."
   ]
  },
  {
   "attachments": {},
   "cell_type": "markdown",
   "metadata": {},
   "source": []
  },
  {
   "cell_type": "code",
   "execution_count": 19,
   "metadata": {},
   "outputs": [
    {
     "data": {
      "text/plain": [
       "Index(['Marital Status', 'Course', 'Previous qualification',\n",
       "       'Previous qualification (grade)', 'Mother's qualification',\n",
       "       'Father's qualification', 'Mother's occupation', 'Father's occupation',\n",
       "       'Admission grade', 'Gender', 'Age at enrollment', 'International',\n",
       "       'Curricular units 1st sem (credited)',\n",
       "       'Curricular units 1st sem (enrolled)',\n",
       "       'Curricular units 1st sem (evaluations)',\n",
       "       'Curricular units 1st sem (approved)',\n",
       "       'Curricular units 1st sem (grade)',\n",
       "       'Curricular units 1st sem (without evaluations)',\n",
       "       'Curricular units 2nd sem (credited)',\n",
       "       'Curricular units 2nd sem (enrolled)',\n",
       "       'Curricular units 2nd sem (evaluations)',\n",
       "       'Curricular units 2nd sem (approved)',\n",
       "       'Curricular units 2nd sem (grade)',\n",
       "       'Curricular units 2nd sem (without evaluations)', 'Unemployment rate',\n",
       "       'Inflation rate', 'GDP', 'Target', 'isDisplaced', 'hasSpecialNeeds',\n",
       "       'tuitionToDate', 'hasScholarship', 'isDebtor', 'AttendanceTime',\n",
       "       'Nationality', 'Divorced', 'Facto Union', 'Legally Separated',\n",
       "       'Married', 'Single', 'Widower', 'Angolan', 'Brazilian', 'Cape Verdean',\n",
       "       'Colombian', 'Cuban', 'Dutch', 'English', 'German', 'Guinean',\n",
       "       'Italian', 'Lithuanian', 'Mexican', 'Moldova (Republic of)',\n",
       "       'Mozambican', 'Portuguese', 'Romanian', 'Russian', 'Santomean',\n",
       "       'Spanish', 'Turkish', 'Ukrainian'],\n",
       "      dtype='object')"
      ]
     },
     "execution_count": 19,
     "metadata": {},
     "output_type": "execute_result"
    }
   ],
   "source": [
    "df.columns"
   ]
  },
  {
   "cell_type": "code",
   "execution_count": 20,
   "metadata": {},
   "outputs": [],
   "source": [
    "X2 = df[['Admission grade','isDisplaced','Previous qualification', 'Previous qualification (grade)',\n",
    "               'isDebtor','hasScholarship', 'Age at enrollment', 'Gender', 'International', 'Curricular units 1st sem (grade)'\n",
    "               , 'Curricular units 2nd sem (grade)', 'Unemployment rate', 'Inflation rate', 'GDP', 'AttendanceTime', 'tuitionToDate']]\n",
    "y2 = df['Target']\n"
   ]
  },
  {
   "cell_type": "code",
   "execution_count": 21,
   "metadata": {},
   "outputs": [
    {
     "name": "stdout",
     "output_type": "stream",
     "text": [
      "Accuracy: 0.8225988700564971\n",
      "Precision: 0.8140243902439024\n",
      "Recall: 0.9384885764499121\n",
      "Confusion Matrix:\n",
      "[[194 122]\n",
      " [ 35 534]]\n"
     ]
    }
   ],
   "source": [
    "# Split the data into training and testing sets\n",
    "X2_train, X2_test, y2_train, y2_test = train_test_split(X2, y2, test_size=0.2, random_state=42)\n",
    "\n",
    "# Create a logistic regression model\n",
    "less_feat_model = LogisticRegression(max_iter = 10000)\n",
    "\n",
    "# Fit the model to the training data\n",
    "less_feat_model.fit(X2_train, y2_train)\n",
    "\n",
    "# Make predictions on the test data\n",
    "y2_pred = less_feat_model.predict(X2_test)\n",
    "\n",
    "# Evaluate the model\n",
    "accuracy2 = metrics.accuracy_score(y2_test, y2_pred)\n",
    "precision2 = metrics.precision_score(y2_test, y2_pred, pos_label='1')\n",
    "recall2 = metrics.recall_score(y2_test, y2_pred, pos_label='1')\n",
    "confusion_matrix2 = metrics.confusion_matrix(y2_test, y2_pred)\n",
    "\n",
    "print(f'Accuracy: {accuracy2}')\n",
    "print(f'Precision: {precision2}')\n",
    "print(f'Recall: {recall2}')\n",
    "print(f'Confusion Matrix:\\n{confusion_matrix2}')"
   ]
  },
  {
   "attachments": {},
   "cell_type": "markdown",
   "metadata": {},
   "source": [
    "Not much changes, let's cut down the features even more."
   ]
  },
  {
   "cell_type": "code",
   "execution_count": 22,
   "metadata": {},
   "outputs": [],
   "source": [
    "X3 = df[['isDisplaced','Previous qualification', 'Previous qualification (grade)',\n",
    "               'isDebtor','hasScholarship', 'AttendanceTime', 'hasSpecialNeeds']]\n",
    "y3 = df['Target']"
   ]
  },
  {
   "cell_type": "code",
   "execution_count": 23,
   "metadata": {},
   "outputs": [
    {
     "name": "stdout",
     "output_type": "stream",
     "text": [
      "Accuracy: 0.6836158192090396\n",
      "Precision: 0.6813048933500627\n",
      "Recall: 0.9543057996485061\n",
      "Confusion Matrix:\n",
      "[[ 62 254]\n",
      " [ 26 543]]\n"
     ]
    }
   ],
   "source": [
    "# Split the data into training and testing sets\n",
    "X3_train, X3_test, y3_train, y3_test = train_test_split(X3, y3, test_size=0.2, random_state=42)\n",
    "\n",
    "# Create a logistic regression model\n",
    "simple_model = LogisticRegression(max_iter = 10000)\n",
    "\n",
    "# Fit the model to the training data\n",
    "simple_model.fit(X3_train, y3_train)\n",
    "\n",
    "# Make predictions on the test data\n",
    "y3_pred = simple_model.predict(X3_test)\n",
    "\n",
    "# Evaluate the model\n",
    "accuracy3 = metrics.accuracy_score(y3_test, y3_pred)\n",
    "precision3 = metrics.precision_score(y3_test, y3_pred, pos_label='1')\n",
    "recall3 = metrics.recall_score(y3_test, y3_pred, pos_label='1')\n",
    "confusion_matrix3 = metrics.confusion_matrix(y3_test, y3_pred)\n",
    "\n",
    "print(f'Accuracy: {accuracy3}')\n",
    "print(f'Precision: {precision3}')\n",
    "print(f'Recall: {recall3}')\n",
    "print(f'Confusion Matrix:\\n{confusion_matrix3}')"
   ]
  },
  {
   "cell_type": "code",
   "execution_count": null,
   "metadata": {},
   "outputs": [],
   "source": []
  }
 ],
 "metadata": {
  "kernelspec": {
   "display_name": "base",
   "language": "python",
   "name": "python3"
  },
  "language_info": {
   "codemirror_mode": {
    "name": "ipython",
    "version": 3
   },
   "file_extension": ".py",
   "mimetype": "text/x-python",
   "name": "python",
   "nbconvert_exporter": "python",
   "pygments_lexer": "ipython3",
   "version": "3.9.0"
  }
 },
 "nbformat": 4,
 "nbformat_minor": 2
}
