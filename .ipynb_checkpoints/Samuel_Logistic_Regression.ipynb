{
 "cells": [
  {
   "cell_type": "code",
   "execution_count": 134,
   "metadata": {},
   "outputs": [],
   "source": [
    "import pandas as pd\n",
    "import math as math\n",
    "import numpy as np\n",
    "import seaborn as sns\n",
    "import matplotlib.pyplot as plt\n",
    "import plotly\n",
    "import plotly.express as px\n",
    "import plotly.graph_objects as go\n",
    "\n",
    "import statsmodels\n",
    "import statsmodels.api as sm\n",
    "import statsmodels.formula.api as smf\n",
    "from sklearn.preprocessing import OrdinalEncoder\n",
    "from sklearn.preprocessing import OneHotEncoder\n",
    "from sklearn.model_selection import train_test_split\n",
    "from sklearn.linear_model import LogisticRegression\n",
    "from sklearn import metrics\n"
   ]
  },
  {
   "attachments": {},
   "cell_type": "markdown",
   "metadata": {},
   "source": [
    "## Methodology"
   ]
  },
  {
   "attachments": {},
   "cell_type": "markdown",
   "metadata": {},
   "source": [
    "We're going to have the response variable as the \"Target\" column and have Graduate/Enrolled as a success or 1 and have Dropout as a fail or 0.\n",
    "For our model, we are going to focus on 5 features for our predictors. These features are ['Marital Status', 'isDisplaced', 'Previous qualification', 'isDebtor', 'hasScholarship']."
   ]
  },
  {
   "attachments": {},
   "cell_type": "markdown",
   "metadata": {},
   "source": [
    "### Logistic Regression for Dropout/Graduate Students"
   ]
  },
  {
   "cell_type": "code",
   "execution_count": 135,
   "metadata": {},
   "outputs": [],
   "source": [
    "#df = pd.read_csv(\"C:/Users/samue_gelsjfg/Downloads/Leena_df1Clean.csv\")\n",
    "df = pd.read_csv(\"/Users/samuelmai/Downloads/Leena_df1Clean.csv\")"
   ]
  },
  {
   "cell_type": "code",
   "execution_count": 136,
   "metadata": {},
   "outputs": [
    {
     "data": {
      "text/html": [
       "<div>\n",
       "<style scoped>\n",
       "    .dataframe tbody tr th:only-of-type {\n",
       "        vertical-align: middle;\n",
       "    }\n",
       "\n",
       "    .dataframe tbody tr th {\n",
       "        vertical-align: top;\n",
       "    }\n",
       "\n",
       "    .dataframe thead th {\n",
       "        text-align: right;\n",
       "    }\n",
       "</style>\n",
       "<table border=\"1\" class=\"dataframe\">\n",
       "  <thead>\n",
       "    <tr style=\"text-align: right;\">\n",
       "      <th></th>\n",
       "      <th>Marital Status</th>\n",
       "      <th>Course</th>\n",
       "      <th>Previous qualification</th>\n",
       "      <th>Previous qualification (grade)</th>\n",
       "      <th>Mother's qualification</th>\n",
       "      <th>Father's qualification</th>\n",
       "      <th>Mother's occupation</th>\n",
       "      <th>Father's occupation</th>\n",
       "      <th>Admission grade</th>\n",
       "      <th>Gender</th>\n",
       "      <th>...</th>\n",
       "      <th>Inflation rate</th>\n",
       "      <th>GDP</th>\n",
       "      <th>Target</th>\n",
       "      <th>isDisplaced</th>\n",
       "      <th>hasSpecialNeeds</th>\n",
       "      <th>tuitionToDate</th>\n",
       "      <th>hasScholarship</th>\n",
       "      <th>isDebtor</th>\n",
       "      <th>AttendanceTime</th>\n",
       "      <th>Nationality</th>\n",
       "    </tr>\n",
       "  </thead>\n",
       "  <tbody>\n",
       "    <tr>\n",
       "      <th>0</th>\n",
       "      <td>Single</td>\n",
       "      <td>Animation and Multimedia Design</td>\n",
       "      <td>Secondary</td>\n",
       "      <td>122.0</td>\n",
       "      <td>Basic</td>\n",
       "      <td>Basic</td>\n",
       "      <td>5</td>\n",
       "      <td>9</td>\n",
       "      <td>127.3</td>\n",
       "      <td>Male</td>\n",
       "      <td>...</td>\n",
       "      <td>1.4</td>\n",
       "      <td>1.74</td>\n",
       "      <td>Dropout</td>\n",
       "      <td>True</td>\n",
       "      <td>False</td>\n",
       "      <td>True</td>\n",
       "      <td>False</td>\n",
       "      <td>False</td>\n",
       "      <td>Day</td>\n",
       "      <td>Portuguese</td>\n",
       "    </tr>\n",
       "    <tr>\n",
       "      <th>1</th>\n",
       "      <td>Single</td>\n",
       "      <td>Tourism</td>\n",
       "      <td>Secondary</td>\n",
       "      <td>160.0</td>\n",
       "      <td>Secondary</td>\n",
       "      <td>Higher</td>\n",
       "      <td>3</td>\n",
       "      <td>3</td>\n",
       "      <td>142.5</td>\n",
       "      <td>Male</td>\n",
       "      <td>...</td>\n",
       "      <td>-0.3</td>\n",
       "      <td>0.79</td>\n",
       "      <td>Graduate/Enrolled</td>\n",
       "      <td>True</td>\n",
       "      <td>False</td>\n",
       "      <td>False</td>\n",
       "      <td>False</td>\n",
       "      <td>False</td>\n",
       "      <td>Day</td>\n",
       "      <td>Portuguese</td>\n",
       "    </tr>\n",
       "    <tr>\n",
       "      <th>2</th>\n",
       "      <td>Single</td>\n",
       "      <td>Communication Design</td>\n",
       "      <td>Secondary</td>\n",
       "      <td>122.0</td>\n",
       "      <td>Basic</td>\n",
       "      <td>Basic</td>\n",
       "      <td>9</td>\n",
       "      <td>9</td>\n",
       "      <td>124.8</td>\n",
       "      <td>Male</td>\n",
       "      <td>...</td>\n",
       "      <td>1.4</td>\n",
       "      <td>1.74</td>\n",
       "      <td>Dropout</td>\n",
       "      <td>True</td>\n",
       "      <td>False</td>\n",
       "      <td>False</td>\n",
       "      <td>False</td>\n",
       "      <td>False</td>\n",
       "      <td>Day</td>\n",
       "      <td>Portuguese</td>\n",
       "    </tr>\n",
       "    <tr>\n",
       "      <th>3</th>\n",
       "      <td>Single</td>\n",
       "      <td>Journalism and Communication</td>\n",
       "      <td>Secondary</td>\n",
       "      <td>122.0</td>\n",
       "      <td>Basic</td>\n",
       "      <td>Basic</td>\n",
       "      <td>5</td>\n",
       "      <td>3</td>\n",
       "      <td>119.6</td>\n",
       "      <td>Female</td>\n",
       "      <td>...</td>\n",
       "      <td>-0.8</td>\n",
       "      <td>-3.12</td>\n",
       "      <td>Graduate/Enrolled</td>\n",
       "      <td>True</td>\n",
       "      <td>False</td>\n",
       "      <td>True</td>\n",
       "      <td>False</td>\n",
       "      <td>False</td>\n",
       "      <td>Day</td>\n",
       "      <td>Portuguese</td>\n",
       "    </tr>\n",
       "    <tr>\n",
       "      <th>4</th>\n",
       "      <td>Married</td>\n",
       "      <td>Social Service (evening attendance)</td>\n",
       "      <td>Secondary</td>\n",
       "      <td>100.0</td>\n",
       "      <td>Basic</td>\n",
       "      <td>Basic</td>\n",
       "      <td>9</td>\n",
       "      <td>9</td>\n",
       "      <td>141.5</td>\n",
       "      <td>Female</td>\n",
       "      <td>...</td>\n",
       "      <td>-0.3</td>\n",
       "      <td>0.79</td>\n",
       "      <td>Graduate/Enrolled</td>\n",
       "      <td>False</td>\n",
       "      <td>False</td>\n",
       "      <td>True</td>\n",
       "      <td>False</td>\n",
       "      <td>False</td>\n",
       "      <td>Evening</td>\n",
       "      <td>Portuguese</td>\n",
       "    </tr>\n",
       "  </tbody>\n",
       "</table>\n",
       "<p>5 rows × 35 columns</p>\n",
       "</div>"
      ],
      "text/plain": [
       "  Marital Status                               Course Previous qualification  \\\n",
       "0         Single      Animation and Multimedia Design              Secondary   \n",
       "1         Single                              Tourism              Secondary   \n",
       "2         Single                 Communication Design              Secondary   \n",
       "3         Single         Journalism and Communication              Secondary   \n",
       "4        Married  Social Service (evening attendance)              Secondary   \n",
       "\n",
       "   Previous qualification (grade) Mother's qualification  \\\n",
       "0                           122.0                  Basic   \n",
       "1                           160.0              Secondary   \n",
       "2                           122.0                  Basic   \n",
       "3                           122.0                  Basic   \n",
       "4                           100.0                  Basic   \n",
       "\n",
       "  Father's qualification  Mother's occupation  Father's occupation  \\\n",
       "0                  Basic                    5                    9   \n",
       "1                 Higher                    3                    3   \n",
       "2                  Basic                    9                    9   \n",
       "3                  Basic                    5                    3   \n",
       "4                  Basic                    9                    9   \n",
       "\n",
       "   Admission grade  Gender  ...  Inflation rate   GDP             Target  \\\n",
       "0            127.3    Male  ...             1.4  1.74            Dropout   \n",
       "1            142.5    Male  ...            -0.3  0.79  Graduate/Enrolled   \n",
       "2            124.8    Male  ...             1.4  1.74            Dropout   \n",
       "3            119.6  Female  ...            -0.8 -3.12  Graduate/Enrolled   \n",
       "4            141.5  Female  ...            -0.3  0.79  Graduate/Enrolled   \n",
       "\n",
       "   isDisplaced  hasSpecialNeeds  tuitionToDate  hasScholarship  isDebtor  \\\n",
       "0         True            False           True           False     False   \n",
       "1         True            False          False           False     False   \n",
       "2         True            False          False           False     False   \n",
       "3         True            False           True           False     False   \n",
       "4        False            False           True           False     False   \n",
       "\n",
       "   AttendanceTime  Nationality  \n",
       "0             Day   Portuguese  \n",
       "1             Day   Portuguese  \n",
       "2             Day   Portuguese  \n",
       "3             Day   Portuguese  \n",
       "4         Evening   Portuguese  \n",
       "\n",
       "[5 rows x 35 columns]"
      ]
     },
     "execution_count": 136,
     "metadata": {},
     "output_type": "execute_result"
    }
   ],
   "source": [
    "df.head()"
   ]
  },
  {
   "cell_type": "code",
   "execution_count": 137,
   "metadata": {},
   "outputs": [
    {
     "data": {
      "text/plain": [
       "Marital Status                                     object\n",
       "Course                                             object\n",
       "Previous qualification                             object\n",
       "Previous qualification (grade)                    float64\n",
       "Mother's qualification                             object\n",
       "Father's qualification                             object\n",
       "Mother's occupation                                 int64\n",
       "Father's occupation                                 int64\n",
       "Admission grade                                   float64\n",
       "Gender                                             object\n",
       "Age at enrollment                                   int64\n",
       "International                                       int64\n",
       "Curricular units 1st sem (credited)                 int64\n",
       "Curricular units 1st sem (enrolled)                 int64\n",
       "Curricular units 1st sem (evaluations)              int64\n",
       "Curricular units 1st sem (approved)                 int64\n",
       "Curricular units 1st sem (grade)                  float64\n",
       "Curricular units 1st sem (without evaluations)      int64\n",
       "Curricular units 2nd sem (credited)                 int64\n",
       "Curricular units 2nd sem (enrolled)                 int64\n",
       "Curricular units 2nd sem (evaluations)              int64\n",
       "Curricular units 2nd sem (approved)                 int64\n",
       "Curricular units 2nd sem (grade)                  float64\n",
       "Curricular units 2nd sem (without evaluations)      int64\n",
       "Unemployment rate                                 float64\n",
       "Inflation rate                                    float64\n",
       "GDP                                               float64\n",
       "Target                                             object\n",
       "isDisplaced                                          bool\n",
       "hasSpecialNeeds                                      bool\n",
       "tuitionToDate                                        bool\n",
       "hasScholarship                                       bool\n",
       "isDebtor                                             bool\n",
       "AttendanceTime                                     object\n",
       "Nationality                                        object\n",
       "dtype: object"
      ]
     },
     "execution_count": 137,
     "metadata": {},
     "output_type": "execute_result"
    }
   ],
   "source": [
    "df.dtypes"
   ]
  },
  {
   "cell_type": "code",
   "execution_count": 138,
   "metadata": {},
   "outputs": [
    {
     "name": "stdout",
     "output_type": "stream",
     "text": [
      "['Dropout' 'Graduate/Enrolled']\n",
      "['0' '1']\n"
     ]
    }
   ],
   "source": [
    "print(df['Target'].unique())\n",
    "\n",
    "# Change 'Graduate/Enrolled' = 1 and 'Dropout' = 0\n",
    "\n",
    "df['Target'] = df['Target'].replace(['Dropout','Graduate/Enrolled'], ['0','1'])\n",
    "print(df['Target'].unique())\n"
   ]
  },
  {
   "cell_type": "code",
   "execution_count": 139,
   "metadata": {},
   "outputs": [],
   "source": [
    "df['isDisplaced'] = df['isDisplaced'].astype(int)\n",
    "df['hasSpecialNeeds'] = df['hasSpecialNeeds'].astype(int)\n",
    "df['tuitionToDate'] = df['tuitionToDate'].astype(int)\n",
    "df['hasScholarship'] = df['hasScholarship'].astype(int)\n",
    "df['isDebtor'] = df['isDebtor'].astype(int)"
   ]
  },
  {
   "cell_type": "code",
   "execution_count": 140,
   "metadata": {},
   "outputs": [
    {
     "name": "stdout",
     "output_type": "stream",
     "text": [
      "['Secondary' 'Below secondary' 'Higher']\n",
      "[1. 0. 2.]\n"
     ]
    }
   ],
   "source": [
    "print(df['Previous qualification'].unique())\n",
    "# This is an ordinal variable, so we can use ordinal encoding and have \"Below Secondary = 0, Secondary = 1, and Higher = 2\"\n",
    "\n",
    "encoder = OrdinalEncoder(categories=[[\"Below secondary\", \"Secondary\", \"Higher\"]])\n",
    "\n",
    "# Fit and transform the data\n",
    "df['Previous qualification'] = encoder.fit_transform(df[['Previous qualification']])\n",
    "print(df['Previous qualification'].unique())"
   ]
  },
  {
   "cell_type": "code",
   "execution_count": 141,
   "metadata": {},
   "outputs": [
    {
     "name": "stdout",
     "output_type": "stream",
     "text": [
      "['Single' 'Married' 'Divorced' 'Widower' 'Facto Union' 'Legally Separated']\n"
     ]
    }
   ],
   "source": [
    "print(df['Marital Status'].unique())\n",
    "\n",
    "# We will use One Hot Encoding here to turn these values into numerical values\n",
    "\n",
    "one_hot_encoded = pd.get_dummies(df['Marital Status'])\n",
    "df = pd.concat([df, one_hot_encoded], axis=1)\n",
    "\n",
    "# encoder = OneHotEncoder()\n",
    "\n",
    "# # Fit and transform the data\n",
    "# encoded_data = encoder.fit_transform(df[['Marital Status']])\n",
    "\n",
    "# # Convert the encoded data to a DataFrame\n",
    "# encoded_df = pd.DataFrame(encoded_data.toarray(), columns=encoder.get_feature_names_out(['Marital Status']))\n",
    "\n",
    "# # Concatenate the encoded DataFrame with the original DataFrame\n",
    "# df = pd.concat([df, encoded_df], axis=1)"
   ]
  },
  {
   "cell_type": "code",
   "execution_count": 142,
   "metadata": {},
   "outputs": [
    {
     "name": "stdout",
     "output_type": "stream",
     "text": [
      "['Basic' 'Secondary' 'Higher' 'Unknown']\n"
     ]
    }
   ],
   "source": [
    "print(df[\"Mother's qualification\"].unique())\n",
    "\n",
    "# Since we don't know for some values, we are going to drop the column as a feature."
   ]
  },
  {
   "cell_type": "code",
   "execution_count": 143,
   "metadata": {},
   "outputs": [
    {
     "name": "stdout",
     "output_type": "stream",
     "text": [
      "['Basic' 'Higher' 'Secondary' 'Unknown']\n"
     ]
    }
   ],
   "source": [
    "print(df[\"Father's qualification\"].unique())\n",
    "\n",
    "# Since we don't know for some values, we are going to drop the column as a feature."
   ]
  },
  {
   "cell_type": "code",
   "execution_count": 144,
   "metadata": {},
   "outputs": [
    {
     "name": "stdout",
     "output_type": "stream",
     "text": [
      "['Male' 'Female']\n",
      "[1 0]\n"
     ]
    }
   ],
   "source": [
    "print(df['Gender'].unique())\n",
    "\n",
    "# We will be using binary encoding to have male = 1 and female = 0\n",
    "\n",
    "df['Gender'] = df['Gender'].replace(['Female','Male'], [0,1])\n",
    "print(df['Gender'].unique())"
   ]
  },
  {
   "cell_type": "code",
   "execution_count": 145,
   "metadata": {},
   "outputs": [
    {
     "name": "stdout",
     "output_type": "stream",
     "text": [
      "['Day' 'Evening']\n",
      "[0 1]\n"
     ]
    }
   ],
   "source": [
    "print(df['AttendanceTime'].unique())\n",
    "\n",
    "df['AttendanceTime'] = df['AttendanceTime'].replace(['Day','Evening'], [0,1])\n",
    "\n",
    "print(df['AttendanceTime'].unique())"
   ]
  },
  {
   "cell_type": "code",
   "execution_count": 146,
   "metadata": {},
   "outputs": [
    {
     "name": "stdout",
     "output_type": "stream",
     "text": [
      "['Portuguese' 'Romanian' 'Spanish' 'Brazilian' 'Santomean' 'Ukrainian'\n",
      " 'Dutch' 'Mozambican' 'Angolan' 'Mexican' 'Italian' 'Cape Verdean'\n",
      " 'Turkish' 'Moldova (Republic of)' 'Guinean' 'Colombian' 'German' 'Cuban'\n",
      " 'Russian' 'English' 'Lithuanian']\n"
     ]
    }
   ],
   "source": [
    "print(df['Nationality'].unique())\n",
    "\n",
    "# One hot encode this\n",
    "\n",
    "df_one_hot = pd.get_dummies(df['Nationality'])\n",
    "df = pd.concat([df, df_one_hot], axis=1)\n"
   ]
  },
  {
   "cell_type": "code",
   "execution_count": 147,
   "metadata": {},
   "outputs": [
    {
     "data": {
      "text/plain": [
       "Index(['Marital Status', 'Course', 'Previous qualification',\n",
       "       'Previous qualification (grade)', 'Mother's qualification',\n",
       "       'Father's qualification', 'Mother's occupation', 'Father's occupation',\n",
       "       'Admission grade', 'Gender', 'Age at enrollment', 'International',\n",
       "       'Curricular units 1st sem (credited)',\n",
       "       'Curricular units 1st sem (enrolled)',\n",
       "       'Curricular units 1st sem (evaluations)',\n",
       "       'Curricular units 1st sem (approved)',\n",
       "       'Curricular units 1st sem (grade)',\n",
       "       'Curricular units 1st sem (without evaluations)',\n",
       "       'Curricular units 2nd sem (credited)',\n",
       "       'Curricular units 2nd sem (enrolled)',\n",
       "       'Curricular units 2nd sem (evaluations)',\n",
       "       'Curricular units 2nd sem (approved)',\n",
       "       'Curricular units 2nd sem (grade)',\n",
       "       'Curricular units 2nd sem (without evaluations)', 'Unemployment rate',\n",
       "       'Inflation rate', 'GDP', 'Target', 'isDisplaced', 'hasSpecialNeeds',\n",
       "       'tuitionToDate', 'hasScholarship', 'isDebtor', 'AttendanceTime',\n",
       "       'Nationality', 'Divorced', 'Facto Union', 'Legally Separated',\n",
       "       'Married', 'Single', 'Widower', 'Angolan', 'Brazilian', 'Cape Verdean',\n",
       "       'Colombian', 'Cuban', 'Dutch', 'English', 'German', 'Guinean',\n",
       "       'Italian', 'Lithuanian', 'Mexican', 'Moldova (Republic of)',\n",
       "       'Mozambican', 'Portuguese', 'Romanian', 'Russian', 'Santomean',\n",
       "       'Spanish', 'Turkish', 'Ukrainian'],\n",
       "      dtype='object')"
      ]
     },
     "execution_count": 147,
     "metadata": {},
     "output_type": "execute_result"
    }
   ],
   "source": [
    "df.columns"
   ]
  },
  {
   "attachments": {},
   "cell_type": "markdown",
   "metadata": {},
   "source": [
    "Now we can run our logistic regression after converting all our categorical variables into numerical values."
   ]
  },
  {
   "cell_type": "code",
   "execution_count": null,
   "metadata": {},
   "outputs": [],
   "source": [
    "X = df.drop(['Target', 'Course', 'Nationality', 'Marital Status', \"Mother's qualification\", \"Father's qualification\"], axis=1)\n",
    "y = df['Target']"
   ]
  },
  {
   "cell_type": "code",
   "execution_count": 153,
   "metadata": {},
   "outputs": [
    {
     "data": {
      "text/plain": [
       "Previous qualification                            float64\n",
       "Previous qualification (grade)                    float64\n",
       "Mother's occupation                                 int64\n",
       "Father's occupation                                 int64\n",
       "Admission grade                                   float64\n",
       "Gender                                              int64\n",
       "Age at enrollment                                   int64\n",
       "International                                       int64\n",
       "Curricular units 1st sem (credited)                 int64\n",
       "Curricular units 1st sem (enrolled)                 int64\n",
       "Curricular units 1st sem (evaluations)              int64\n",
       "Curricular units 1st sem (approved)                 int64\n",
       "Curricular units 1st sem (grade)                  float64\n",
       "Curricular units 1st sem (without evaluations)      int64\n",
       "Curricular units 2nd sem (credited)                 int64\n",
       "Curricular units 2nd sem (enrolled)                 int64\n",
       "Curricular units 2nd sem (evaluations)              int64\n",
       "Curricular units 2nd sem (approved)                 int64\n",
       "Curricular units 2nd sem (grade)                  float64\n",
       "Curricular units 2nd sem (without evaluations)      int64\n",
       "Unemployment rate                                 float64\n",
       "Inflation rate                                    float64\n",
       "GDP                                               float64\n",
       "isDisplaced                                         int64\n",
       "hasSpecialNeeds                                     int64\n",
       "tuitionToDate                                       int64\n",
       "hasScholarship                                      int64\n",
       "isDebtor                                            int64\n",
       "AttendanceTime                                      int64\n",
       "Divorced                                            uint8\n",
       "Facto Union                                         uint8\n",
       "Legally Separated                                   uint8\n",
       "Married                                             uint8\n",
       "Single                                              uint8\n",
       "Widower                                             uint8\n",
       "Angolan                                             uint8\n",
       "Brazilian                                           uint8\n",
       "Cape Verdean                                        uint8\n",
       "Colombian                                           uint8\n",
       "Cuban                                               uint8\n",
       "Dutch                                               uint8\n",
       "English                                             uint8\n",
       "German                                              uint8\n",
       "Guinean                                             uint8\n",
       "Italian                                             uint8\n",
       "Lithuanian                                          uint8\n",
       "Mexican                                             uint8\n",
       "Moldova (Republic of)                               uint8\n",
       "Mozambican                                          uint8\n",
       "Portuguese                                          uint8\n",
       "Romanian                                            uint8\n",
       "Russian                                             uint8\n",
       "Santomean                                           uint8\n",
       "Spanish                                             uint8\n",
       "Turkish                                             uint8\n",
       "Ukrainian                                           uint8\n",
       "dtype: object"
      ]
     },
     "execution_count": 153,
     "metadata": {},
     "output_type": "execute_result"
    }
   ],
   "source": [
    "X.dtypes"
   ]
  },
  {
   "cell_type": "code",
   "execution_count": 159,
   "metadata": {},
   "outputs": [
    {
     "name": "stdout",
     "output_type": "stream",
     "text": [
      "Accuracy: 0.8655367231638418\n"
     ]
    }
   ],
   "source": [
    "# Split the data into training and testing sets\n",
    "X_train, X_test, y_train, y_test = train_test_split(X, y, test_size=0.2, random_state=42)\n",
    "\n",
    "# Create a logistic regression model\n",
    "model = LogisticRegression(max_iter = 10000)\n",
    "\n",
    "# Fit the model to the training data\n",
    "model.fit(X_train, y_train)\n",
    "\n",
    "# Make predictions on the test data\n",
    "y_pred = model.predict(X_test)\n",
    "\n",
    "# Evaluate the model\n",
    "accuracy = metrics.accuracy_score(y_test, y_pred)\n",
    "# precision = metrics.precision_score(y_test, y_pred, pos_label='1')\n",
    "# recall = metrics.recall_score(y_test, y_pred)\n",
    "# confusion_matrix = metrics.confusion_matrix(y_test, y_pred)\n",
    "\n",
    "print(f'Accuracy: {accuracy}')\n",
    "# print(f'Precision: {precision}')\n",
    "# print(f'Recall: {recall}')\n",
    "# print(f'Confusion Matrix:\\n{confusion_matrix}')"
   ]
  },
  {
   "attachments": {},
   "cell_type": "markdown",
   "metadata": {},
   "source": [
    "### Results"
   ]
  },
  {
   "attachments": {},
   "cell_type": "markdown",
   "metadata": {},
   "source": [
    "From our accuracy score, it seems that the features used are good at predicting whether someone will be Enrolled or Graduated. However, I fear that this is a case of overfitting so we might have to run it again with fewer features. The one hot encoded variables of Marital Status and Nationality may have been a reason for this with the large number of categorical values, we created very sparce matrices which isn't ideal for logistic regression."
   ]
  },
  {
   "attachments": {},
   "cell_type": "markdown",
   "metadata": {},
   "source": []
  }
 ],
 "metadata": {
  "kernelspec": {
   "display_name": "base",
   "language": "python",
   "name": "python3"
  },
  "language_info": {
   "codemirror_mode": {
    "name": "ipython",
    "version": 3
   },
   "file_extension": ".py",
   "mimetype": "text/x-python",
   "name": "python",
   "nbconvert_exporter": "python",
   "pygments_lexer": "ipython3",
   "version": "3.9.13"
  }
 },
 "nbformat": 4,
 "nbformat_minor": 2
}
