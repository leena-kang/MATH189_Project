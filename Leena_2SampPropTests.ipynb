{
 "cells": [
  {
   "cell_type": "code",
   "execution_count": 1,
   "id": "6ab1281b-031d-4a30-906e-e869f206a0ac",
   "metadata": {},
   "outputs": [],
   "source": [
    "import numpy as np\n",
    "import pandas as pd;\n",
    "import scipy.stats as stats\n",
    "\n",
    "import seaborn as sns\n",
    "import matplotlib.pyplot as plt\n",
    "\n",
    "import statsmodels\n",
    "import statsmodels.api as sm\n",
    "import statsmodels.formula.api as smf"
   ]
  },
  {
   "cell_type": "markdown",
   "id": "5754afea-b0f9-4d53-b0b3-909d6a013a2b",
   "metadata": {},
   "source": [
    "## Hypothesis Testing for Dropout/Graduate Students"
   ]
  },
  {
   "cell_type": "markdown",
   "id": "71d20346-e8e0-43ec-b192-131b74eba6b4",
   "metadata": {},
   "source": [
    "> #### The objective here is to determine whether our observed differences between dropout students and those who graduated or are still enrolled are statistically significant"
   ]
  },
  {
   "cell_type": "markdown",
   "id": "0fd07bb8-b087-4966-b142-da0c449da461",
   "metadata": {},
   "source": [
    "##### Setup"
   ]
  },
  {
   "cell_type": "code",
   "execution_count": 2,
   "id": "99f60811-1be2-487d-b909-319a0a64f164",
   "metadata": {},
   "outputs": [],
   "source": [
    "# loading data - dataframe from Leena_EDA \n",
    "df1 = pd.read_csv('Leena_df1Clean.csv')\n",
    "\n",
    "# creating dataframe with relative frequencies for each target \n",
    "df1_grad = df1[df1['Target'] == 'Graduate/Enrolled']\n",
    "df1_drop = df1[df1['Target'] == 'Dropout']"
   ]
  },
  {
   "cell_type": "markdown",
   "id": "d712bd57-5b2d-4a45-ad25-341f799e11ff",
   "metadata": {},
   "source": [
    "##### Storing relative frequencies for desired features (adopted from Leena_EDA)"
   ]
  },
  {
   "cell_type": "code",
   "execution_count": 3,
   "id": "5fc3edd6-0d15-4092-ab5d-8d8b596d85f1",
   "metadata": {},
   "outputs": [],
   "source": [
    "    #marital_status\n",
    "marital_status = pd.crosstab(df1['Target'], df1['Marital Status'])\n",
    "marital_status_relfreq_drop = marital_status.loc['Dropout'] / df1_drop.shape[0]\n",
    "marital_status_relfreq_grad = marital_status.loc['Graduate/Enrolled'] / df1_grad.shape[0]\n",
    "\n",
    "    #previous qualification\n",
    "prev_qual = pd.crosstab(df1['Target'], df1['Previous qualification'])\n",
    "prev_qual_relfreq_drop = prev_qual.loc['Dropout'] / df1_drop.shape[0]\n",
    "prev_qual_relfreq_grad = prev_qual.loc['Graduate/Enrolled'] / df1_grad.shape[0]\n",
    "\n",
    "    #isDisplaced\n",
    "displaced = pd.crosstab(df1['Target'], df1['isDisplaced'])\n",
    "displaced_relfreq_drop = displaced.loc['Dropout'] / df1_drop.shape[0]\n",
    "displaced_relfreq_grad = displaced.loc['Graduate/Enrolled'] / df1_grad.shape[0]\n",
    "\n",
    "    #hasScholarship\n",
    "hasScholarship = pd.crosstab(df1['Target'], df1['hasScholarship'])\n",
    "hasScholarship_relfreq_drop = hasScholarship.loc['Dropout'] / df1_drop.shape[0]\n",
    "hasScholarship_relfreq_grad = hasScholarship.loc['Graduate/Enrolled'] / df1_grad.shape[0]\n",
    "\n",
    "    #isDebtor\n",
    "isDebtor = pd.crosstab(df1['Target'], df1['isDebtor'])\n",
    "isDebtor_relfreq_drop = isDebtor.loc['Dropout'] / df1_drop.shape[0]\n",
    "isDebtor_relfreq_grad = isDebtor.loc['Graduate/Enrolled'] / df1_grad.shape[0]"
   ]
  },
  {
   "cell_type": "code",
   "execution_count": 4,
   "id": "8260b633-0a01-4671-b9f7-370649bf4ed8",
   "metadata": {},
   "outputs": [
    {
     "data": {
      "text/html": [
       "<div>\n",
       "<style scoped>\n",
       "    .dataframe tbody tr th:only-of-type {\n",
       "        vertical-align: middle;\n",
       "    }\n",
       "\n",
       "    .dataframe tbody tr th {\n",
       "        vertical-align: top;\n",
       "    }\n",
       "\n",
       "    .dataframe thead th {\n",
       "        text-align: right;\n",
       "    }\n",
       "</style>\n",
       "<table border=\"1\" class=\"dataframe\">\n",
       "  <thead>\n",
       "    <tr style=\"text-align: right;\">\n",
       "      <th></th>\n",
       "      <th>Marital Status</th>\n",
       "      <th>Course</th>\n",
       "      <th>Previous qualification</th>\n",
       "      <th>Previous qualification (grade)</th>\n",
       "      <th>Mother's qualification</th>\n",
       "      <th>Father's qualification</th>\n",
       "      <th>Mother's occupation</th>\n",
       "      <th>Father's occupation</th>\n",
       "      <th>Admission grade</th>\n",
       "      <th>Gender</th>\n",
       "      <th>...</th>\n",
       "      <th>Inflation rate</th>\n",
       "      <th>GDP</th>\n",
       "      <th>Target</th>\n",
       "      <th>isDisplaced</th>\n",
       "      <th>hasSpecialNeeds</th>\n",
       "      <th>tuitionToDate</th>\n",
       "      <th>hasScholarship</th>\n",
       "      <th>isDebtor</th>\n",
       "      <th>AttendanceTime</th>\n",
       "      <th>Nationality</th>\n",
       "    </tr>\n",
       "  </thead>\n",
       "  <tbody>\n",
       "    <tr>\n",
       "      <th>0</th>\n",
       "      <td>Single</td>\n",
       "      <td>Animation and Multimedia Design</td>\n",
       "      <td>Secondary</td>\n",
       "      <td>122.0</td>\n",
       "      <td>Basic</td>\n",
       "      <td>Basic</td>\n",
       "      <td>5</td>\n",
       "      <td>9</td>\n",
       "      <td>127.3</td>\n",
       "      <td>Male</td>\n",
       "      <td>...</td>\n",
       "      <td>1.4</td>\n",
       "      <td>1.74</td>\n",
       "      <td>Dropout</td>\n",
       "      <td>True</td>\n",
       "      <td>False</td>\n",
       "      <td>True</td>\n",
       "      <td>False</td>\n",
       "      <td>False</td>\n",
       "      <td>Day</td>\n",
       "      <td>Portuguese</td>\n",
       "    </tr>\n",
       "    <tr>\n",
       "      <th>1</th>\n",
       "      <td>Single</td>\n",
       "      <td>Tourism</td>\n",
       "      <td>Secondary</td>\n",
       "      <td>160.0</td>\n",
       "      <td>Secondary</td>\n",
       "      <td>Higher</td>\n",
       "      <td>3</td>\n",
       "      <td>3</td>\n",
       "      <td>142.5</td>\n",
       "      <td>Male</td>\n",
       "      <td>...</td>\n",
       "      <td>-0.3</td>\n",
       "      <td>0.79</td>\n",
       "      <td>Graduate/Enrolled</td>\n",
       "      <td>True</td>\n",
       "      <td>False</td>\n",
       "      <td>False</td>\n",
       "      <td>False</td>\n",
       "      <td>False</td>\n",
       "      <td>Day</td>\n",
       "      <td>Portuguese</td>\n",
       "    </tr>\n",
       "    <tr>\n",
       "      <th>2</th>\n",
       "      <td>Single</td>\n",
       "      <td>Communication Design</td>\n",
       "      <td>Secondary</td>\n",
       "      <td>122.0</td>\n",
       "      <td>Basic</td>\n",
       "      <td>Basic</td>\n",
       "      <td>9</td>\n",
       "      <td>9</td>\n",
       "      <td>124.8</td>\n",
       "      <td>Male</td>\n",
       "      <td>...</td>\n",
       "      <td>1.4</td>\n",
       "      <td>1.74</td>\n",
       "      <td>Dropout</td>\n",
       "      <td>True</td>\n",
       "      <td>False</td>\n",
       "      <td>False</td>\n",
       "      <td>False</td>\n",
       "      <td>False</td>\n",
       "      <td>Day</td>\n",
       "      <td>Portuguese</td>\n",
       "    </tr>\n",
       "    <tr>\n",
       "      <th>3</th>\n",
       "      <td>Single</td>\n",
       "      <td>Journalism and Communication</td>\n",
       "      <td>Secondary</td>\n",
       "      <td>122.0</td>\n",
       "      <td>Basic</td>\n",
       "      <td>Basic</td>\n",
       "      <td>5</td>\n",
       "      <td>3</td>\n",
       "      <td>119.6</td>\n",
       "      <td>Female</td>\n",
       "      <td>...</td>\n",
       "      <td>-0.8</td>\n",
       "      <td>-3.12</td>\n",
       "      <td>Graduate/Enrolled</td>\n",
       "      <td>True</td>\n",
       "      <td>False</td>\n",
       "      <td>True</td>\n",
       "      <td>False</td>\n",
       "      <td>False</td>\n",
       "      <td>Day</td>\n",
       "      <td>Portuguese</td>\n",
       "    </tr>\n",
       "    <tr>\n",
       "      <th>4</th>\n",
       "      <td>Married</td>\n",
       "      <td>Social Service (evening attendance)</td>\n",
       "      <td>Secondary</td>\n",
       "      <td>100.0</td>\n",
       "      <td>Basic</td>\n",
       "      <td>Basic</td>\n",
       "      <td>9</td>\n",
       "      <td>9</td>\n",
       "      <td>141.5</td>\n",
       "      <td>Female</td>\n",
       "      <td>...</td>\n",
       "      <td>-0.3</td>\n",
       "      <td>0.79</td>\n",
       "      <td>Graduate/Enrolled</td>\n",
       "      <td>False</td>\n",
       "      <td>False</td>\n",
       "      <td>True</td>\n",
       "      <td>False</td>\n",
       "      <td>False</td>\n",
       "      <td>Evening</td>\n",
       "      <td>Portuguese</td>\n",
       "    </tr>\n",
       "  </tbody>\n",
       "</table>\n",
       "<p>5 rows × 35 columns</p>\n",
       "</div>"
      ],
      "text/plain": [
       "  Marital Status                               Course Previous qualification  \\\n",
       "0         Single      Animation and Multimedia Design              Secondary   \n",
       "1         Single                              Tourism              Secondary   \n",
       "2         Single                 Communication Design              Secondary   \n",
       "3         Single         Journalism and Communication              Secondary   \n",
       "4        Married  Social Service (evening attendance)              Secondary   \n",
       "\n",
       "   Previous qualification (grade) Mother's qualification  \\\n",
       "0                           122.0                  Basic   \n",
       "1                           160.0              Secondary   \n",
       "2                           122.0                  Basic   \n",
       "3                           122.0                  Basic   \n",
       "4                           100.0                  Basic   \n",
       "\n",
       "  Father's qualification  Mother's occupation  Father's occupation  \\\n",
       "0                  Basic                    5                    9   \n",
       "1                 Higher                    3                    3   \n",
       "2                  Basic                    9                    9   \n",
       "3                  Basic                    5                    3   \n",
       "4                  Basic                    9                    9   \n",
       "\n",
       "   Admission grade  Gender  ...  Inflation rate   GDP             Target  \\\n",
       "0            127.3    Male  ...             1.4  1.74            Dropout   \n",
       "1            142.5    Male  ...            -0.3  0.79  Graduate/Enrolled   \n",
       "2            124.8    Male  ...             1.4  1.74            Dropout   \n",
       "3            119.6  Female  ...            -0.8 -3.12  Graduate/Enrolled   \n",
       "4            141.5  Female  ...            -0.3  0.79  Graduate/Enrolled   \n",
       "\n",
       "   isDisplaced  hasSpecialNeeds  tuitionToDate  hasScholarship  isDebtor  \\\n",
       "0         True            False           True           False     False   \n",
       "1         True            False          False           False     False   \n",
       "2         True            False          False           False     False   \n",
       "3         True            False           True           False     False   \n",
       "4        False            False           True           False     False   \n",
       "\n",
       "   AttendanceTime  Nationality  \n",
       "0             Day   Portuguese  \n",
       "1             Day   Portuguese  \n",
       "2             Day   Portuguese  \n",
       "3             Day   Portuguese  \n",
       "4         Evening   Portuguese  \n",
       "\n",
       "[5 rows x 35 columns]"
      ]
     },
     "execution_count": 4,
     "metadata": {},
     "output_type": "execute_result"
    }
   ],
   "source": [
    "df1.head()"
   ]
  },
  {
   "cell_type": "markdown",
   "id": "b4e332a9-9c61-4450-8232-1f0469a7c127",
   "metadata": {},
   "source": [
    "## Methodology"
   ]
  },
  {
   "cell_type": "markdown",
   "id": "7cb593cf-192f-422e-9f79-ac5937901021",
   "metadata": {},
   "source": [
    "First, we will assume that dropout students graduate students both follow a **normal distribution**\n",
    "\n",
    "For each question, we ran a **2 sample proportion test** with 2 different methods:\n",
    "1. Performing permutation test using simulation: here we generated difference of proportions to calculated the p-value. \n",
    "2. Using the `statsmodels` module to generate p-value. "
   ]
  },
  {
   "cell_type": "markdown",
   "id": "b0b046ee-58da-4270-97e0-7b8690566dcc",
   "metadata": {},
   "source": [
    "## Marital Status"
   ]
  },
  {
   "cell_type": "markdown",
   "id": "11462686-966f-450c-a472-1773886597a3",
   "metadata": {},
   "source": [
    "> #### Were more dropout students married (or once married) than students who graduated?"
   ]
  },
  {
   "cell_type": "markdown",
   "id": "e05a0e4e-136a-4cd4-9296-7d5978785415",
   "metadata": {},
   "source": [
    "Let $\\theta$ = The difference between the proportion of married/divorced dropout students with graduated/enrolled students\n",
    "\n",
    "$H_0$: $\\theta = 0$\n",
    "> _The distribution of dropout and graduated students came from the same distribution, so any difference is due to chance._\n",
    "\n",
    "$H_a$: $\\theta > 0$\n",
    "> _The difference could not have occured from chance alone, and the students came from a different population._"
   ]
  },
  {
   "cell_type": "code",
   "execution_count": 5,
   "id": "eb7d3fb1-2d85-4b30-8622-dc73087ffccb",
   "metadata": {},
   "outputs": [
    {
     "data": {
      "text/plain": [
       "0.07260719575990511"
      ]
     },
     "execution_count": 5,
     "metadata": {},
     "output_type": "execute_result"
    }
   ],
   "source": [
    "# calculating sample statistic \n",
    "sample_stat = (marital_status_relfreq_drop['Divorced'] + marital_status_relfreq_drop['Married']) - (marital_status_relfreq_grad['Divorced'] + marital_status_relfreq_grad['Married'])\n",
    "sample_stat"
   ]
  },
  {
   "cell_type": "markdown",
   "id": "261ed112-cf6d-450a-8cd2-3231478c3cf4",
   "metadata": {},
   "source": [
    "##### Running the simulation"
   ]
  },
  {
   "cell_type": "code",
   "execution_count": 6,
   "id": "7351c6f0-7f6c-434c-958e-bc002a31ef75",
   "metadata": {},
   "outputs": [],
   "source": [
    "def marital_diff_in_prop(shuffled_df):\n",
    "    freq_table = pd.crosstab(shuffled_df['Shuffled'], shuffled_df['Marital Status'])\n",
    "    \n",
    "    drop_rel_freq = freq_table.loc['Dropout'] / df1_drop.shape[0]\n",
    "    grad_rel_freq = freq_table.loc['Graduate/Enrolled'] / df1_grad.shape[0]\n",
    "\n",
    "    drop_prop = drop_rel_freq['Married'] + drop_rel_freq['Divorced']\n",
    "    grad_prop = grad_rel_freq['Married'] + grad_rel_freq['Divorced']\n",
    "\n",
    "    return (drop_prop - grad_prop)"
   ]
  },
  {
   "cell_type": "code",
   "execution_count": 7,
   "id": "b1081c6b-e423-48f4-bd89-2646f2a0a508",
   "metadata": {},
   "outputs": [],
   "source": [
    "marital_df = df1[['Marital Status', 'Target']]\n",
    "simulated_diffs = np.array([])\n",
    "n = 500\n",
    "\n",
    "for i in range(n):\n",
    "    shuffled_target = np.random.permutation(marital_df.get('Target'))\n",
    "    with_shuffled = marital_df.assign(Shuffled=shuffled_target)\n",
    "    stat = marital_diff_in_prop(with_shuffled)\n",
    "    simulated_diffs = np.append(simulated_diffs, stat)"
   ]
  },
  {
   "cell_type": "code",
   "execution_count": 8,
   "id": "d3a85597-1087-4982-aaaf-f4277f16bc39",
   "metadata": {},
   "outputs": [
    {
     "data": {
      "image/png": "[encoded data removed]",
      "text/plain": [
       "<Figure size 1000x500 with 1 Axes>"
      ]
     },
     "metadata": {},
     "output_type": "display_data"
    }
   ],
   "source": [
    "sns.set_style('darkgrid')\n",
    "\n",
    "(pd.DataFrame()\n",
    " .assign(simulated_diffs=simulated_diffs)\n",
    " .plot(kind='hist', bins=20, density=True, ec='w', figsize=(10, 5))\n",
    ");\n",
    "plt.axvline(sample_stat, color='black', linewidth=4, label='observed difference in proportion')\n",
    "plt.title('Marital Status: Simulated Difference of Proportions')\n",
    "plt.legend();"
   ]
  },
  {
   "cell_type": "code",
   "execution_count": 9,
   "id": "d14c243e-af52-4835-a110-5279e4082d21",
   "metadata": {},
   "outputs": [
    {
     "data": {
      "text/plain": [
       "0.0"
      ]
     },
     "execution_count": 9,
     "metadata": {},
     "output_type": "execute_result"
    }
   ],
   "source": [
    "marital_pval = np.count_nonzero(simulated_diffs >= sample_stat) / n\n",
    "marital_pval"
   ]
  },
  {
   "cell_type": "code",
   "execution_count": 10,
   "id": "71bcf01a-cd42-4485-a471-eb90a1086901",
   "metadata": {},
   "outputs": [
    {
     "data": {
      "text/html": [
       "<div>\n",
       "<style scoped>\n",
       "    .dataframe tbody tr th:only-of-type {\n",
       "        vertical-align: middle;\n",
       "    }\n",
       "\n",
       "    .dataframe tbody tr th {\n",
       "        vertical-align: top;\n",
       "    }\n",
       "\n",
       "    .dataframe thead th {\n",
       "        text-align: right;\n",
       "    }\n",
       "</style>\n",
       "<table border=\"1\" class=\"dataframe\">\n",
       "  <thead>\n",
       "    <tr style=\"text-align: right;\">\n",
       "      <th>Marital Status</th>\n",
       "      <th>Divorced</th>\n",
       "      <th>Facto Union</th>\n",
       "      <th>Legally Separated</th>\n",
       "      <th>Married</th>\n",
       "      <th>Single</th>\n",
       "      <th>Widower</th>\n",
       "    </tr>\n",
       "    <tr>\n",
       "      <th>Target</th>\n",
       "      <th></th>\n",
       "      <th></th>\n",
       "      <th></th>\n",
       "      <th></th>\n",
       "      <th></th>\n",
       "      <th></th>\n",
       "    </tr>\n",
       "  </thead>\n",
       "  <tbody>\n",
       "    <tr>\n",
       "      <th>Dropout</th>\n",
       "      <td>42</td>\n",
       "      <td>11</td>\n",
       "      <td>4</td>\n",
       "      <td>179</td>\n",
       "      <td>1184</td>\n",
       "      <td>1</td>\n",
       "    </tr>\n",
       "    <tr>\n",
       "      <th>Graduate/Enrolled</th>\n",
       "      <td>49</td>\n",
       "      <td>14</td>\n",
       "      <td>2</td>\n",
       "      <td>200</td>\n",
       "      <td>2735</td>\n",
       "      <td>3</td>\n",
       "    </tr>\n",
       "  </tbody>\n",
       "</table>\n",
       "</div>"
      ],
      "text/plain": [
       "Marital Status     Divorced  Facto Union  Legally Separated  Married  Single  \\\n",
       "Target                                                                         \n",
       "Dropout                  42           11                  4      179    1184   \n",
       "Graduate/Enrolled        49           14                  2      200    2735   \n",
       "\n",
       "Marital Status     Widower  \n",
       "Target                      \n",
       "Dropout                  1  \n",
       "Graduate/Enrolled        3  "
      ]
     },
     "execution_count": 10,
     "metadata": {},
     "output_type": "execute_result"
    }
   ],
   "source": [
    "marital_status "
   ]
  },
  {
   "cell_type": "code",
   "execution_count": 11,
   "id": "227fd56e-51a8-4206-93f9-b77b836e5bfa",
   "metadata": {},
   "outputs": [
    {
     "data": {
      "text/plain": [
       "(7.318038104297261, 1.258112121720764e-13)"
      ]
     },
     "execution_count": 11,
     "metadata": {},
     "output_type": "execute_result"
    }
   ],
   "source": [
    "# using statsmodel to perform test \n",
    "statsmodels.stats.proportion.proportions_ztest(\n",
    "    count = [\n",
    "        df1_drop['Marital Status'].map(lambda x: (x == 'Married') or (x == 'Divorced')).sum() ,\n",
    "        df1_grad['Marital Status'].map(lambda x: (x == 'Married') or (x == 'Divorced')).sum() \n",
    "    ],\n",
    "    nobs = [\n",
    "        df1_drop.shape[0],\n",
    "        df1_grad.shape[0]\n",
    "    ],\n",
    "    value = 0.0,\n",
    "    alternative = 'larger'\n",
    ")"
   ]
  },
  {
   "cell_type": "markdown",
   "id": "28b0906e-e0d9-48b6-9d69-453b11bb0221",
   "metadata": {},
   "source": [
    "## Previous Qualification"
   ]
  },
  {
   "cell_type": "markdown",
   "id": "e670d5ca-85ab-4631-8e41-14854a3fb172",
   "metadata": {},
   "source": [
    "> #### Has more dropout students not completed high school as opposed to those who have graduated/are enrolled?\n",
    ">\n",
    "> _In other words, do most students dropout after completing high school?_"
   ]
  },
  {
   "cell_type": "markdown",
   "id": "dee3d15f-3f2e-4d26-a039-284a366d9a05",
   "metadata": {},
   "source": [
    "Let $\\theta$ = The difference between the proportion of dropout students who did not complete high school with graduated/enrolled students who did not complete high school.\n",
    "\n",
    "$H_0$: $\\theta = 0$\n",
    "> _The distribution of dropout and graduated students came from the same distribution, so any difference is due to chance._\n",
    "\n",
    "$H_a$: $\\theta > 0$\n",
    "> _The difference could not have occured from chance alone, and the students came from a different population._"
   ]
  },
  {
   "cell_type": "code",
   "execution_count": 12,
   "id": "5da1a064-d6cd-4a3d-b1d0-5544e6760435",
   "metadata": {},
   "outputs": [
    {
     "data": {
      "text/html": [
       "<div>\n",
       "<style scoped>\n",
       "    .dataframe tbody tr th:only-of-type {\n",
       "        vertical-align: middle;\n",
       "    }\n",
       "\n",
       "    .dataframe tbody tr th {\n",
       "        vertical-align: top;\n",
       "    }\n",
       "\n",
       "    .dataframe thead th {\n",
       "        text-align: right;\n",
       "    }\n",
       "</style>\n",
       "<table border=\"1\" class=\"dataframe\">\n",
       "  <thead>\n",
       "    <tr style=\"text-align: right;\">\n",
       "      <th>Previous qualification</th>\n",
       "      <th>Below secondary</th>\n",
       "      <th>Higher</th>\n",
       "      <th>Secondary</th>\n",
       "    </tr>\n",
       "    <tr>\n",
       "      <th>Target</th>\n",
       "      <th></th>\n",
       "      <th></th>\n",
       "      <th></th>\n",
       "    </tr>\n",
       "  </thead>\n",
       "  <tbody>\n",
       "    <tr>\n",
       "      <th>Dropout</th>\n",
       "      <td>149</td>\n",
       "      <td>194</td>\n",
       "      <td>1078</td>\n",
       "    </tr>\n",
       "    <tr>\n",
       "      <th>Graduate/Enrolled</th>\n",
       "      <td>83</td>\n",
       "      <td>281</td>\n",
       "      <td>2639</td>\n",
       "    </tr>\n",
       "  </tbody>\n",
       "</table>\n",
       "</div>"
      ],
      "text/plain": [
       "Previous qualification  Below secondary  Higher  Secondary\n",
       "Target                                                    \n",
       "Dropout                             149     194       1078\n",
       "Graduate/Enrolled                    83     281       2639"
      ]
     },
     "execution_count": 12,
     "metadata": {},
     "output_type": "execute_result"
    }
   ],
   "source": [
    "prev_qual"
   ]
  },
  {
   "cell_type": "code",
   "execution_count": 13,
   "id": "ba720f3f-0ffd-4a9f-80a8-a6187287eb43",
   "metadata": {},
   "outputs": [
    {
     "data": {
      "text/plain": [
       "0.07721670775857967"
      ]
     },
     "execution_count": 13,
     "metadata": {},
     "output_type": "execute_result"
    }
   ],
   "source": [
    "#computing observed stat\n",
    "sample_stat = prev_qual_relfreq_drop['Below secondary'] - prev_qual_relfreq_grad['Below secondary'] \n",
    "sample_stat"
   ]
  },
  {
   "cell_type": "markdown",
   "id": "0c6ab4b4-5095-4c56-a121-13caaed709d8",
   "metadata": {},
   "source": [
    "#### Running Simulation (Permutation Testing)"
   ]
  },
  {
   "cell_type": "code",
   "execution_count": 14,
   "id": "9810527f-de0e-4f69-b141-fefb3e82a51a",
   "metadata": {},
   "outputs": [],
   "source": [
    "def prev_qual_diff_in_prop(shuffled_df):\n",
    "    freq_table = pd.crosstab(shuffled_df['Shuffled'], shuffled_df['Previous qualification'])\n",
    "    \n",
    "    drop_rel_freq = freq_table.loc['Dropout'] / df1_drop.shape[0]\n",
    "    grad_rel_freq = freq_table.loc['Graduate/Enrolled'] / df1_grad.shape[0]\n",
    "\n",
    "    drop_prop = drop_rel_freq['Below secondary'] \n",
    "    grad_prop = grad_rel_freq['Below secondary'] \n",
    "    \n",
    "    return (drop_prop - grad_prop)"
   ]
  },
  {
   "cell_type": "code",
   "execution_count": 15,
   "id": "161e5569-c630-42c5-9d1d-8e2cc8044a27",
   "metadata": {},
   "outputs": [],
   "source": [
    "prev_qual_df = df1[['Target', 'Previous qualification']]\n",
    "n = 500\n",
    "simulated_diffs = np.array([])\n",
    "\n",
    "for i in range(n):\n",
    "    shuffled_target = np.random.permutation(prev_qual_df.get('Target'))\n",
    "    with_shuffled = prev_qual_df.assign(Shuffled=shuffled_target)\n",
    "    stat = prev_qual_diff_in_prop(with_shuffled)\n",
    "    simulated_diffs = np.append(simulated_diffs, stat)"
   ]
  },
  {
   "cell_type": "code",
   "execution_count": 16,
   "id": "fe8bdd71-f83e-4744-9e4d-cf8800c31637",
   "metadata": {},
   "outputs": [
    {
     "data": {
      "image/png": "[encoded data removed]",
      "text/plain": [
       "<Figure size 1000x500 with 1 Axes>"
      ]
     },
     "metadata": {},
     "output_type": "display_data"
    }
   ],
   "source": [
    "(pd.DataFrame()\n",
    " .assign(simulated_diffs=simulated_diffs)\n",
    " .plot(kind='hist', bins=20, density=True, ec='w', figsize=(10, 5))\n",
    ");\n",
    "plt.axvline(sample_stat, color='black', linewidth=4, label='observed difference in proportion')\n",
    "plt.title('Previous qualification: Simulated Difference of Proportions')\n",
    "plt.legend();"
   ]
  },
  {
   "cell_type": "code",
   "execution_count": 17,
   "id": "51b589f4-0e20-46d0-872b-5544c8fe48d4",
   "metadata": {},
   "outputs": [
    {
     "data": {
      "text/plain": [
       "0.0"
      ]
     },
     "execution_count": 17,
     "metadata": {},
     "output_type": "execute_result"
    }
   ],
   "source": [
    "prev_qual_pval = np.count_nonzero(simulated_diffs >= sample_stat) / n\n",
    "prev_qual_pval"
   ]
  },
  {
   "cell_type": "code",
   "execution_count": 18,
   "id": "3cf4c245-4d6a-4b89-a858-1b8a9b9c590d",
   "metadata": {},
   "outputs": [
    {
     "data": {
      "text/plain": [
       "(10.758182708244705, 2.7114504223121325e-27)"
      ]
     },
     "execution_count": 18,
     "metadata": {},
     "output_type": "execute_result"
    }
   ],
   "source": [
    "# using statsmodels to perform test \n",
    "statsmodels.stats.proportion.proportions_ztest(\n",
    "    count = [\n",
    "        df1_drop['Previous qualification'].map(lambda x: (x == 'Below secondary')).sum(),\n",
    "        df1_grad['Previous qualification'].map(lambda x: (x == 'Below secondary')).sum() \n",
    "    ],\n",
    "    nobs = [\n",
    "        df1_drop.shape[0],\n",
    "        df1_grad.shape[0]\n",
    "    ],\n",
    "    value = 0.0,\n",
    "    alternative = 'larger'\n",
    ")"
   ]
  },
  {
   "cell_type": "markdown",
   "id": "3d57f373-6190-4c16-bf60-6044c04503f7",
   "metadata": {},
   "source": [
    "#### Similarly, has more dropout students obtained their bachelor's (or equivalent) and above as opposed to those who have graduated/are enrolled?"
   ]
  },
  {
   "cell_type": "code",
   "execution_count": 19,
   "id": "29d596e1-a52b-49af-bc43-4d0ba6fe4e7a",
   "metadata": {},
   "outputs": [
    {
     "data": {
      "text/plain": [
       "0.04295048137412669"
      ]
     },
     "execution_count": 19,
     "metadata": {},
     "output_type": "execute_result"
    }
   ],
   "source": [
    "sample_stat = prev_qual_relfreq_drop['Higher'] - prev_qual_relfreq_grad['Higher']\n",
    "sample_stat"
   ]
  },
  {
   "cell_type": "code",
   "execution_count": 20,
   "id": "ede85d3d-1fae-4287-aea3-759ffffc56d3",
   "metadata": {},
   "outputs": [
    {
     "data": {
      "text/plain": [
       "(4.308835638534717, 8.205813594316448e-06)"
      ]
     },
     "execution_count": 20,
     "metadata": {},
     "output_type": "execute_result"
    }
   ],
   "source": [
    "statsmodels.stats.proportion.proportions_ztest(\n",
    "    count = [\n",
    "        df1_drop['Previous qualification'].map(lambda x: (x == 'Higher')).sum(),\n",
    "        df1_grad['Previous qualification'].map(lambda x: (x == 'Higher')).sum() \n",
    "    ],\n",
    "    nobs = [\n",
    "        df1_drop.shape[0],\n",
    "        df1_grad.shape[0]\n",
    "    ],\n",
    "    value = 0.0,\n",
    "    alternative = 'larger'\n",
    ")"
   ]
  },
  {
   "cell_type": "markdown",
   "id": "32800ba5-b5d6-48dc-9e41-e330b9273350",
   "metadata": {},
   "source": [
    "## Binary Data "
   ]
  },
  {
   "cell_type": "code",
   "execution_count": 21,
   "id": "9311d79e-c4ad-4537-913a-b71748a32c74",
   "metadata": {},
   "outputs": [],
   "source": [
    "def diff_prop(shuffled_df, col):\n",
    "    \"\"\"\n",
    "    Given shuffled column named 'Shuffled' of the target, returns difference between proportion\n",
    "    of dropout students with gradeuate/enrolled students for desired column\n",
    "    \"\"\"\n",
    "    freq_table = pd.crosstab(shuffled_df['Shuffled'], shuffled_df[col])\n",
    "    \n",
    "    drop_rel_freq = freq_table.loc['Dropout'] / df1_drop.shape[0]\n",
    "    grad_rel_freq = freq_table.loc['Graduate/Enrolled'] / df1_grad.shape[0]\n",
    "\n",
    "    drop_prop = drop_rel_freq[True]\n",
    "    grad_prop = grad_rel_freq[True]\n",
    "\n",
    "    return (drop_prop - grad_prop)"
   ]
  },
  {
   "cell_type": "markdown",
   "id": "0a43b202-7d3d-4b7c-9551-24e563b334da",
   "metadata": {},
   "source": [
    "## Displace"
   ]
  },
  {
   "cell_type": "markdown",
   "id": "e469433a-0381-412e-bfa3-f6511fd160bd",
   "metadata": {},
   "source": [
    "> #### Do graduate/enrolled students have a larger proportion of displaced students compared to dropout students?"
   ]
  },
  {
   "cell_type": "markdown",
   "id": "26b7c653-0cbc-4fa2-bf9e-e368d21708f7",
   "metadata": {},
   "source": [
    "Let $\\theta$ = The difference between the proportion of dropout students who were displaced with graduated/enrolled students who did not complete high school.\n",
    "\n",
    "$H_0$: $\\theta = 0$\n",
    "> _The distribution of dropout and graduated students came from the same distribution, so any difference is due to chance._\n",
    "\n",
    "$H_a$: $\\theta < 0$\n",
    "> _The difference could not have occured from chance alone._"
   ]
  },
  {
   "cell_type": "markdown",
   "id": "93cd3c8f-51db-49c1-af05-30aca5a34a1d",
   "metadata": {},
   "source": [
    "#### Running Simulation (Permutation Test)"
   ]
  },
  {
   "cell_type": "code",
   "execution_count": 22,
   "id": "aca4f3d8-4333-4dcb-a043-29de69c2736a",
   "metadata": {},
   "outputs": [
    {
     "data": {
      "image/png": "[encoded data removed]",
      "text/plain": [
       "<Figure size 1000x500 with 1 Axes>"
      ]
     },
     "metadata": {},
     "output_type": "display_data"
    }
   ],
   "source": [
    "displaced_df = df1[['Target','isDisplaced']]\n",
    "n = 500 \n",
    "simulated_diffs = np.array([])\n",
    "\n",
    "sample_stat = displaced_relfreq_drop[True] - displaced_relfreq_grad[True]\n",
    "\n",
    "for i in range(n):\n",
    "    shuffled_target = np.random.permutation(displaced_df['Target'])\n",
    "    with_shuffled = displaced_df.assign(Shuffled=shuffled_target)\n",
    "    stat = diff_prop(with_shuffled, 'isDisplaced') \n",
    "    simulated_diffs = np.append(simulated_diffs, stat)\n",
    "\n",
    "# plotting simulated diffs and observed stat\n",
    "(pd.DataFrame()\n",
    " .assign(simulated_diffs=simulated_diffs)\n",
    " .plot(kind='hist', bins=20, density=True, ec='w', figsize=(10, 5))\n",
    ");\n",
    "plt.axvline(sample_stat, color='black', linewidth=4, label='observed difference in proportion')\n",
    "plt.title('isDisplaced: Simulated Difference of Proportions')\n",
    "plt.legend();"
   ]
  },
  {
   "cell_type": "code",
   "execution_count": 23,
   "id": "8a9c2e5f-5ce0-45bd-a0b8-93d020438924",
   "metadata": {},
   "outputs": [
    {
     "data": {
      "text/plain": [
       "0.0"
      ]
     },
     "execution_count": 23,
     "metadata": {},
     "output_type": "execute_result"
    }
   ],
   "source": [
    "isDisplaced_pval = np.count_nonzero(simulated_diffs <= sample_stat) / n\n",
    "isDisplaced_pval"
   ]
  },
  {
   "cell_type": "code",
   "execution_count": 24,
   "id": "a08d8907-aa5a-4bc1-b829-0cf0f2192877",
   "metadata": {},
   "outputs": [
    {
     "data": {
      "text/plain": [
       "(-7.132365069915034, 4.932938815203346e-13)"
      ]
     },
     "execution_count": 24,
     "metadata": {},
     "output_type": "execute_result"
    }
   ],
   "source": [
    "# using statsmodel to perform test \n",
    "statsmodels.stats.proportion.proportions_ztest(\n",
    "    count = [\n",
    "        df1_drop['isDisplaced'].map(lambda x: (x == True)).sum(),\n",
    "        df1_grad['isDisplaced'].map(lambda x: (x == True)).sum() \n",
    "    ],\n",
    "    nobs = [\n",
    "        df1_drop.shape[0],\n",
    "        df1_grad.shape[0]\n",
    "    ],\n",
    "    value = 0.0,\n",
    "    alternative = 'smaller'\n",
    ")"
   ]
  },
  {
   "cell_type": "markdown",
   "id": "87d4817a-bfc6-4526-861a-0a2652406975",
   "metadata": {},
   "source": [
    "## hasScholarship\n",
    "> #### Do dropout studnets have a smaller proportion of scholarship recipients compared to graduated/enrolled students?\n",
    "\n",
    "Let $\\theta$ = The difference between the proportion of dropout students who had a scholarship with graduated/enrolled students who had a scholarship. \n",
    "\n",
    "$H_0$: $\\theta = 0$\n",
    "> _The distribution of dropout and graduated students came from the same distribution, so any difference is due to chance._\n",
    "\n",
    "$H_a$: $\\theta < 0$\n",
    "> _The difference could not have occured from chance alone._"
   ]
  },
  {
   "cell_type": "code",
   "execution_count": 25,
   "id": "40c850b3-e5ad-49e2-8008-2b85c8ded497",
   "metadata": {},
   "outputs": [
    {
     "data": {
      "image/png": "[encoded data removed]",
      "text/plain": [
       "<Figure size 1000x500 with 1 Axes>"
      ]
     },
     "metadata": {},
     "output_type": "display_data"
    }
   ],
   "source": [
    "hasScholarship_df = df1[['Target','hasScholarship']]\n",
    "n = 500 \n",
    "simulated_diffs = np.array([])\n",
    "\n",
    "sample_stat = hasScholarship_relfreq_drop[True] - hasScholarship_relfreq_grad[True] \n",
    "\n",
    "for i in range(n):\n",
    "    shuffled_target = np.random.permutation(hasScholarship_df['Target']) \n",
    "    with_shuffled = hasScholarship_df.assign(Shuffled=shuffled_target) \n",
    "    stat = diff_prop(with_shuffled, 'hasScholarship') \n",
    "    simulated_diffs = np.append(simulated_diffs, stat) \n",
    "\n",
    "# plotting simulated diffs\n",
    "(pd.DataFrame()\n",
    " .assign(simulated_diffs=simulated_diffs)\n",
    " .plot(kind='hist', bins=20, density=True, ec='w', figsize=(10, 5))\n",
    ");\n",
    "plt.axvline(sample_stat, color='black', linewidth=4, label='observed difference in proportion')\n",
    "plt.title('hasScholarship: Simulated Difference of Proportions')\n",
    "plt.legend();"
   ]
  },
  {
   "cell_type": "code",
   "execution_count": 26,
   "id": "314375ab-5f0b-43e8-bfda-cad2b7aadaae",
   "metadata": {},
   "outputs": [
    {
     "data": {
      "text/plain": [
       "0.0"
      ]
     },
     "execution_count": 26,
     "metadata": {},
     "output_type": "execute_result"
    }
   ],
   "source": [
    "# calculate p-val \n",
    "hasScholarship_pval = np.count_nonzero(simulated_diffs <= sample_stat) / n\n",
    "hasScholarship_pval"
   ]
  },
  {
   "cell_type": "code",
   "execution_count": 27,
   "id": "2acd4342-ffd8-4474-8cb7-720660807eba",
   "metadata": {},
   "outputs": [
    {
     "data": {
      "text/plain": [
       "(-16.319263467057727, 3.599951894765692e-60)"
      ]
     },
     "execution_count": 27,
     "metadata": {},
     "output_type": "execute_result"
    }
   ],
   "source": [
    "# using statsmodels to perform test \n",
    "statsmodels.stats.proportion.proportions_ztest(\n",
    "    count = [\n",
    "        df1_drop['hasScholarship'].map(lambda x: (x == True)).sum(),\n",
    "        df1_grad['hasScholarship'].map(lambda x: (x == True)).sum() \n",
    "    ],\n",
    "    nobs = [\n",
    "        df1_drop.shape[0],\n",
    "        df1_grad.shape[0]\n",
    "    ],\n",
    "    value = 0.0,\n",
    "    alternative = 'smaller'\n",
    ")"
   ]
  },
  {
   "cell_type": "markdown",
   "id": "e7af1161-38b8-4266-8d41-23f08bab850c",
   "metadata": {},
   "source": [
    "## Debtors \n",
    "> #### Do dropout students have a larger proportion of debtors compared to graduate/enrolled students?\n",
    "\n",
    "Let $\\theta$ = The difference between the proportion of dropout students who are debtors with graduated/enrolled debtors. \n",
    "\n",
    "$H_0$: $\\theta = 0$\n",
    "> _The distribution of dropout and graduated students came from the same distribution, so any difference is due to chance._\n",
    "\n",
    "$H_a$: $\\theta > 0$\n",
    "> _The difference could not have occured from chance alone._"
   ]
  },
  {
   "cell_type": "markdown",
   "id": "4dca6cd2-ecf4-4374-bcd1-f9f1e1ba235c",
   "metadata": {},
   "source": [
    "#### Running Simulation (Permutation test)"
   ]
  },
  {
   "cell_type": "code",
   "execution_count": 28,
   "id": "3361b762-6e8b-421a-85e7-23f127d89cb2",
   "metadata": {},
   "outputs": [
    {
     "data": {
      "image/png": "[encoded data removed]",
      "text/plain": [
       "<Figure size 1000x500 with 1 Axes>"
      ]
     },
     "metadata": {},
     "output_type": "display_data"
    }
   ],
   "source": [
    "isDebtor_df = df1[['Target','isDebtor']]\n",
    "n = 500\n",
    "simulated_diffs = np.array([])\n",
    "\n",
    "sample_stat = isDebtor_relfreq_drop[True] - isDebtor_relfreq_grad[True]\n",
    "\n",
    "for i in range(n):\n",
    "    shuffled_target = np.random.permutation(isDebtor_df['Target']) \n",
    "    with_shuffled = isDebtor_df.assign(Shuffled=shuffled_target)\n",
    "    stat = diff_prop(with_shuffled, 'isDebtor') \n",
    "    simulated_diffs = np.append(simulated_diffs, stat) \n",
    "\n",
    "# plotting simulated diffs\n",
    "(pd.DataFrame()\n",
    " .assign(simulated_diffs=simulated_diffs)\n",
    " .plot(kind='hist', bins=20, density=True, ec='w', figsize=(10, 5))\n",
    ");\n",
    "plt.axvline(sample_stat, color='black', linewidth=4, label='observed difference in proportion')\n",
    "plt.title('isDebtor: Simulated Difference of Proportions')\n",
    "plt.legend();"
   ]
  },
  {
   "cell_type": "code",
   "execution_count": 29,
   "id": "1ccad8db-068c-4f84-81c6-a01ac413a8ba",
   "metadata": {},
   "outputs": [
    {
     "data": {
      "text/plain": [
       "0.0"
      ]
     },
     "execution_count": 29,
     "metadata": {},
     "output_type": "execute_result"
    }
   ],
   "source": [
    "# calculating p-val \n",
    "isDebtor_pval = np.count_nonzero(simulated_diffs >= sample_stat) / n\n",
    "isDebtor_pval"
   ]
  },
  {
   "cell_type": "code",
   "execution_count": 30,
   "id": "4631f6c2-50ed-4664-9567-2a3d4a5ccf99",
   "metadata": {},
   "outputs": [
    {
     "data": {
      "text/plain": [
       "(15.258604435495931, 7.215079900102946e-53)"
      ]
     },
     "execution_count": 30,
     "metadata": {},
     "output_type": "execute_result"
    }
   ],
   "source": [
    "# using statsmodels to perform test \n",
    "statsmodels.stats.proportion.proportions_ztest(\n",
    "    count = [\n",
    "        df1_drop['isDebtor'].map(lambda x: (x == True)).sum(),\n",
    "        df1_grad['isDebtor'].map(lambda x: (x == True)).sum() \n",
    "    ],\n",
    "    nobs = [\n",
    "        df1_drop.shape[0],\n",
    "        df1_grad.shape[0]\n",
    "    ],\n",
    "    value = 0.0,\n",
    "    alternative = 'larger'\n",
    ")"
   ]
  },
  {
   "cell_type": "markdown",
   "id": "5eff78f2-b294-440f-ae52-a1e1ec9488bd",
   "metadata": {},
   "source": [
    "# Conclusion + Key Takeaways"
   ]
  },
  {
   "cell_type": "markdown",
   "id": "b1f16e86-1f3a-4a6e-bc63-ab8198425d4f",
   "metadata": {},
   "source": [
    "All of our hypothesis tests **rejects the null**, suggesting \n",
    "1. A larger proportion dropout students were married or were once married.\n",
    "2. A larger proportion dropout students did not complete high school (that is, students tend to drop out before completing high school).\n",
    "3. A larger proportion of graduate/enrolled students were displaced. \n",
    "4. A larger proportion of graduate/enrolled students were scholarship recipients.\n",
    "5. A larger proportion of dropout students were debtors. "
   ]
  }
 ],
 "metadata": {
  "kernelspec": {
   "display_name": "Python 3 (ipykernel)",
   "language": "python",
   "name": "python3"
  },
  "language_info": {
   "codemirror_mode": {
    "name": "ipython",
    "version": 3
   },
   "file_extension": ".py",
   "mimetype": "text/x-python",
   "name": "python",
   "nbconvert_exporter": "python",
   "pygments_lexer": "ipython3",
   "version": "3.10.11"
  }
 },
 "nbformat": 4,
 "nbformat_minor": 5
}
